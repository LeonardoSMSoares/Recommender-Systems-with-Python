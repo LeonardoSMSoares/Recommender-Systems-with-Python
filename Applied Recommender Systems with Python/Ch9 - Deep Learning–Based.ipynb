{
 "cells": [
  {
   "cell_type": "markdown",
   "id": "892dd700-69ce-4efd-9e7e-7ab420a0ba23",
   "metadata": {},
   "source": [
    "# Chapter 9 - Deep Learning–Based Recommender Systems"
   ]
  },
  {
   "cell_type": "markdown",
   "id": "32d0ca4e-fb64-4add-99d5-ac3f639b5eba",
   "metadata": {},
   "source": [
    "Deep learning techniques utilize recent and rapidly growing network architectures and optimization algorithms to train on large amounts of data and build more expressive and better-performing models. Graphics Processing Units (GPUs) and deep learning have been driving advances in recommender systems for the past few years. Due to their massively parallel architecture, using GPUs for computation provides higher performance and cost savings. Let’s first explore the basics of deep learning and then look at the deep learning–based collaborative filtering method (neural collaborative filtering).."
   ]
  },
  {
   "cell_type": "markdown",
   "id": "92969969-1c2d-465d-be0e-fd59f50e2004",
   "metadata": {},
   "source": [
    "<div style=\"text-align:left;\">\n",
    "    <img src='images/NN.png' width='600'>\n",
    "</div>"
   ]
  },
  {
   "cell_type": "code",
   "execution_count": 1,
   "id": "f4d6e20c-2045-4615-8f46-5aa17c183286",
   "metadata": {},
   "outputs": [],
   "source": [
    "%load_ext autoreload\n",
    "%autoreload 2"
   ]
  },
  {
   "cell_type": "code",
   "execution_count": 2,
   "id": "b02b9505-8109-4d33-9a70-c7babaae529f",
   "metadata": {},
   "outputs": [
    {
     "name": "stdout",
     "output_type": "stream",
     "text": [
      "1.26.4\n"
     ]
    }
   ],
   "source": [
    "import numpy as np\n",
    "print(np.__version__)"
   ]
  },
  {
   "cell_type": "code",
   "execution_count": 3,
   "id": "be1f6442-7677-42bc-aaa5-d9ac27605e24",
   "metadata": {},
   "outputs": [
    {
     "name": "stdout",
     "output_type": "stream",
     "text": [
      "3.11.7 | packaged by Anaconda, Inc. | (main, Dec 15 2023, 18:05:47) [MSC v.1916 64 bit (AMD64)]\n"
     ]
    }
   ],
   "source": [
    "import sys\n",
    "print(sys.version)"
   ]
  },
  {
   "cell_type": "code",
   "execution_count": 14,
   "id": "a183f6aa-f435-4c45-9145-0260ee8a61e6",
   "metadata": {},
   "outputs": [
    {
     "name": "stdout",
     "output_type": "stream",
     "text": [
      "System version: 3.11.7 | packaged by Anaconda, Inc. | (main, Dec 15 2023, 18:05:47) [MSC v.1916 64 bit (AMD64)]\n",
      "Pandas version: 2.2.2\n",
      "Tensorflow version: 2.13.1\n"
     ]
    }
   ],
   "source": [
    "# Importing libraries\n",
    "\n",
    "import pandas as pd\n",
    "import numpy as np\n",
    "\n",
    "import sys\n",
    "import pandas as pd\n",
    "import tensorflow as tf\n",
    "tf.get_logger().setLevel('ERROR') # only show error messages\n",
    "\n",
    "from recommenders.utils.timer import Timer\n",
    "from recommenders.models.ncf.ncf_singlenode import NCF\n",
    "from recommenders.models.ncf.dataset import Dataset as NCFDataset\n",
    "\n",
    "#from recommenders.datasets import movielens\n",
    "from recommenders.utils.notebook_utils import is_jupyter\n",
    "from recommenders.datasets.python_splitters import python_chrono_split,python_stratified_split\n",
    "from recommenders.evaluation.python_evaluation import (rmse, mae, rsquared, exp_var, map_at_k, ndcg_at_k, precision_at_k, \n",
    "                                                     recall_at_k, get_top_k_items)\n",
    "\n",
    "print(\"System version: {}\".format(sys.version))\n",
    "print(\"Pandas version: {}\".format(pd.__version__))\n",
    "print(\"Tensorflow version: {}\".format(tf.__version__))\n",
    "\n",
    "import warnings\n",
    "warnings.filterwarnings(\"ignore\")"
   ]
  },
  {
   "cell_type": "code",
   "execution_count": 5,
   "id": "fa52d1ba-b753-4aa3-827e-5a052f72f146",
   "metadata": {},
   "outputs": [],
   "source": [
    "# top k items to recommend\n",
    "TOP_K = 10\n",
    "\n",
    "# Select MovieLens data size: 100k, 1m, 10m, or 20m\n",
    "#MOVIELENS_DATA_SIZE = '100k'\n",
    "\n",
    "# Model parameters\n",
    "EPOCHS = 50\n",
    "BATCH_SIZE = 256\n",
    "\n",
    "SEED = 42"
   ]
  },
  {
   "cell_type": "markdown",
   "id": "ac78f13c-abe9-4998-b17f-43bac1ea6d4b",
   "metadata": {},
   "source": [
    "## 1. Load Dataset"
   ]
  },
  {
   "cell_type": "code",
   "execution_count": 6,
   "id": "9087c6df-dc79-4eb1-b0ea-a6b4e51e2db2",
   "metadata": {},
   "outputs": [
    {
     "data": {
      "text/html": [
       "<div>\n",
       "<style scoped>\n",
       "    .dataframe tbody tr th:only-of-type {\n",
       "        vertical-align: middle;\n",
       "    }\n",
       "\n",
       "    .dataframe tbody tr th {\n",
       "        vertical-align: top;\n",
       "    }\n",
       "\n",
       "    .dataframe thead th {\n",
       "        text-align: right;\n",
       "    }\n",
       "</style>\n",
       "<table border=\"1\" class=\"dataframe\">\n",
       "  <thead>\n",
       "    <tr style=\"text-align: right;\">\n",
       "      <th></th>\n",
       "      <th>InvoiceNo</th>\n",
       "      <th>StockCode</th>\n",
       "      <th>Quantity</th>\n",
       "      <th>InvoiceDate</th>\n",
       "      <th>DeliveryDate</th>\n",
       "      <th>Discount%</th>\n",
       "      <th>ShipMode</th>\n",
       "      <th>ShippingCost</th>\n",
       "      <th>CustomerID</th>\n",
       "    </tr>\n",
       "  </thead>\n",
       "  <tbody>\n",
       "    <tr>\n",
       "      <th>0</th>\n",
       "      <td>536365</td>\n",
       "      <td>84029E</td>\n",
       "      <td>6</td>\n",
       "      <td>2010-12-01 08:26:00</td>\n",
       "      <td>2010-12-02 08:26:00</td>\n",
       "      <td>0.20</td>\n",
       "      <td>ExpressAir</td>\n",
       "      <td>30.12</td>\n",
       "      <td>17850</td>\n",
       "    </tr>\n",
       "    <tr>\n",
       "      <th>1</th>\n",
       "      <td>536365</td>\n",
       "      <td>71053</td>\n",
       "      <td>6</td>\n",
       "      <td>2010-12-01 08:26:00</td>\n",
       "      <td>2010-12-02 08:26:00</td>\n",
       "      <td>0.21</td>\n",
       "      <td>ExpressAir</td>\n",
       "      <td>30.12</td>\n",
       "      <td>17850</td>\n",
       "    </tr>\n",
       "    <tr>\n",
       "      <th>2</th>\n",
       "      <td>536365</td>\n",
       "      <td>21730</td>\n",
       "      <td>6</td>\n",
       "      <td>2010-12-01 08:26:00</td>\n",
       "      <td>2010-12-03 08:26:00</td>\n",
       "      <td>0.56</td>\n",
       "      <td>Regular Air</td>\n",
       "      <td>15.22</td>\n",
       "      <td>17850</td>\n",
       "    </tr>\n",
       "    <tr>\n",
       "      <th>3</th>\n",
       "      <td>536365</td>\n",
       "      <td>84406B</td>\n",
       "      <td>8</td>\n",
       "      <td>2010-12-01 08:26:00</td>\n",
       "      <td>2010-12-03 08:26:00</td>\n",
       "      <td>0.30</td>\n",
       "      <td>Regular Air</td>\n",
       "      <td>15.22</td>\n",
       "      <td>17850</td>\n",
       "    </tr>\n",
       "    <tr>\n",
       "      <th>4</th>\n",
       "      <td>536365</td>\n",
       "      <td>22752</td>\n",
       "      <td>2</td>\n",
       "      <td>2010-12-01 08:26:00</td>\n",
       "      <td>2010-12-04 08:26:00</td>\n",
       "      <td>0.57</td>\n",
       "      <td>Delivery Truck</td>\n",
       "      <td>5.81</td>\n",
       "      <td>17850</td>\n",
       "    </tr>\n",
       "  </tbody>\n",
       "</table>\n",
       "</div>"
      ],
      "text/plain": [
       "   InvoiceNo StockCode  Quantity         InvoiceDate        DeliveryDate  \\\n",
       "0     536365    84029E         6 2010-12-01 08:26:00 2010-12-02 08:26:00   \n",
       "1     536365     71053         6 2010-12-01 08:26:00 2010-12-02 08:26:00   \n",
       "2     536365     21730         6 2010-12-01 08:26:00 2010-12-03 08:26:00   \n",
       "3     536365    84406B         8 2010-12-01 08:26:00 2010-12-03 08:26:00   \n",
       "4     536365     22752         2 2010-12-01 08:26:00 2010-12-04 08:26:00   \n",
       "\n",
       "   Discount%        ShipMode  ShippingCost  CustomerID  \n",
       "0       0.20      ExpressAir         30.12       17850  \n",
       "1       0.21      ExpressAir         30.12       17850  \n",
       "2       0.56     Regular Air         15.22       17850  \n",
       "3       0.30     Regular Air         15.22       17850  \n",
       "4       0.57  Delivery Truck          5.81       17850  "
      ]
     },
     "execution_count": 6,
     "metadata": {},
     "output_type": "execute_result"
    }
   ],
   "source": [
    "#read csv data\n",
    "\n",
    "df = pd.read_excel(\"data/Rec_sys_data.xlsx\")\n",
    "df.head()"
   ]
  },
  {
   "cell_type": "code",
   "execution_count": 7,
   "id": "bc3fccb5-fe46-42d1-af19-c48fe8f144ad",
   "metadata": {},
   "outputs": [
    {
     "name": "stdout",
     "output_type": "stream",
     "text": [
      "(246706, 4)\n"
     ]
    },
    {
     "data": {
      "text/html": [
       "<div>\n",
       "<style scoped>\n",
       "    .dataframe tbody tr th:only-of-type {\n",
       "        vertical-align: middle;\n",
       "    }\n",
       "\n",
       "    .dataframe tbody tr th {\n",
       "        vertical-align: top;\n",
       "    }\n",
       "\n",
       "    .dataframe thead th {\n",
       "        text-align: right;\n",
       "    }\n",
       "</style>\n",
       "<table border=\"1\" class=\"dataframe\">\n",
       "  <thead>\n",
       "    <tr style=\"text-align: right;\">\n",
       "      <th></th>\n",
       "      <th>CustomerID</th>\n",
       "      <th>StockCode</th>\n",
       "      <th>Quantity</th>\n",
       "      <th>DeliveryDate</th>\n",
       "    </tr>\n",
       "  </thead>\n",
       "  <tbody>\n",
       "    <tr>\n",
       "      <th>1</th>\n",
       "      <td>17850</td>\n",
       "      <td>71053.0</td>\n",
       "      <td>6</td>\n",
       "      <td>2010-12-02 08:26:00</td>\n",
       "    </tr>\n",
       "    <tr>\n",
       "      <th>2</th>\n",
       "      <td>17850</td>\n",
       "      <td>21730.0</td>\n",
       "      <td>6</td>\n",
       "      <td>2010-12-03 08:26:00</td>\n",
       "    </tr>\n",
       "    <tr>\n",
       "      <th>4</th>\n",
       "      <td>17850</td>\n",
       "      <td>22752.0</td>\n",
       "      <td>2</td>\n",
       "      <td>2010-12-04 08:26:00</td>\n",
       "    </tr>\n",
       "    <tr>\n",
       "      <th>7</th>\n",
       "      <td>17850</td>\n",
       "      <td>22633.0</td>\n",
       "      <td>6</td>\n",
       "      <td>2010-12-04 08:28:00</td>\n",
       "    </tr>\n",
       "    <tr>\n",
       "      <th>8</th>\n",
       "      <td>17850</td>\n",
       "      <td>22632.0</td>\n",
       "      <td>6</td>\n",
       "      <td>2010-12-03 08:28:00</td>\n",
       "    </tr>\n",
       "  </tbody>\n",
       "</table>\n",
       "</div>"
      ],
      "text/plain": [
       "   CustomerID  StockCode  Quantity        DeliveryDate\n",
       "1       17850    71053.0         6 2010-12-02 08:26:00\n",
       "2       17850    21730.0         6 2010-12-03 08:26:00\n",
       "4       17850    22752.0         2 2010-12-04 08:26:00\n",
       "7       17850    22633.0         6 2010-12-04 08:28:00\n",
       "8       17850    22632.0         6 2010-12-03 08:28:00"
      ]
     },
     "execution_count": 7,
     "metadata": {},
     "output_type": "execute_result"
    }
   ],
   "source": [
    "df= df[['CustomerID','StockCode','Quantity','DeliveryDate']]\n",
    "\n",
    "df[\"StockCode\"] = df[\"StockCode\"].apply(lambda x: pd.to_numeric(x, errors='coerce')).dropna()\n",
    "\n",
    "df = df.dropna()\n",
    "\n",
    "print(df.shape)\n",
    "df.head()"
   ]
  },
  {
   "cell_type": "code",
   "execution_count": 8,
   "id": "f1f9b94c-62a3-45ac-aaef-b2e3678fa9e8",
   "metadata": {},
   "outputs": [
    {
     "name": "stdout",
     "output_type": "stream",
     "text": [
      "<class 'pandas.core.frame.DataFrame'>\n",
      "Index: 246706 entries, 1 to 272403\n",
      "Data columns (total 4 columns):\n",
      " #   Column        Non-Null Count   Dtype         \n",
      "---  ------        --------------   -----         \n",
      " 0   CustomerID    246706 non-null  int64         \n",
      " 1   StockCode     246706 non-null  float64       \n",
      " 2   Quantity      246706 non-null  int64         \n",
      " 3   DeliveryDate  246706 non-null  datetime64[ns]\n",
      "dtypes: datetime64[ns](1), float64(1), int64(2)\n",
      "memory usage: 9.4 MB\n"
     ]
    }
   ],
   "source": [
    "df.info()"
   ]
  },
  {
   "cell_type": "code",
   "execution_count": 9,
   "id": "016b2806-54f7-4255-b430-0ef506527136",
   "metadata": {},
   "outputs": [
    {
     "data": {
      "text/html": [
       "<div>\n",
       "<style scoped>\n",
       "    .dataframe tbody tr th:only-of-type {\n",
       "        vertical-align: middle;\n",
       "    }\n",
       "\n",
       "    .dataframe tbody tr th {\n",
       "        vertical-align: top;\n",
       "    }\n",
       "\n",
       "    .dataframe thead th {\n",
       "        text-align: right;\n",
       "    }\n",
       "</style>\n",
       "<table border=\"1\" class=\"dataframe\">\n",
       "  <thead>\n",
       "    <tr style=\"text-align: right;\">\n",
       "      <th></th>\n",
       "      <th>userID</th>\n",
       "      <th>itemID</th>\n",
       "      <th>rating</th>\n",
       "      <th>timestamp</th>\n",
       "    </tr>\n",
       "  </thead>\n",
       "  <tbody>\n",
       "    <tr>\n",
       "      <th>1</th>\n",
       "      <td>17850</td>\n",
       "      <td>71053</td>\n",
       "      <td>6</td>\n",
       "      <td>2010-12-02 08:26:00</td>\n",
       "    </tr>\n",
       "    <tr>\n",
       "      <th>2</th>\n",
       "      <td>17850</td>\n",
       "      <td>21730</td>\n",
       "      <td>6</td>\n",
       "      <td>2010-12-03 08:26:00</td>\n",
       "    </tr>\n",
       "    <tr>\n",
       "      <th>4</th>\n",
       "      <td>17850</td>\n",
       "      <td>22752</td>\n",
       "      <td>2</td>\n",
       "      <td>2010-12-04 08:26:00</td>\n",
       "    </tr>\n",
       "    <tr>\n",
       "      <th>7</th>\n",
       "      <td>17850</td>\n",
       "      <td>22633</td>\n",
       "      <td>6</td>\n",
       "      <td>2010-12-04 08:28:00</td>\n",
       "    </tr>\n",
       "    <tr>\n",
       "      <th>8</th>\n",
       "      <td>17850</td>\n",
       "      <td>22632</td>\n",
       "      <td>6</td>\n",
       "      <td>2010-12-03 08:28:00</td>\n",
       "    </tr>\n",
       "  </tbody>\n",
       "</table>\n",
       "</div>"
      ],
      "text/plain": [
       "   userID  itemID  rating           timestamp\n",
       "1   17850   71053       6 2010-12-02 08:26:00\n",
       "2   17850   21730       6 2010-12-03 08:26:00\n",
       "4   17850   22752       2 2010-12-04 08:26:00\n",
       "7   17850   22633       6 2010-12-04 08:28:00\n",
       "8   17850   22632       6 2010-12-03 08:28:00"
      ]
     },
     "execution_count": 9,
     "metadata": {},
     "output_type": "execute_result"
    }
   ],
   "source": [
    "#header=[\"userID\", \"itemID\", \"rating\", \"timestamp\"]\n",
    "\n",
    "df = df.rename(columns={'CustomerID':\"userID\",\n",
    "                        'StockCode':\"itemID\",\n",
    "                        'Quantity':\"rating\",\n",
    "                        'DeliveryDate':\"timestamp\"})\n",
    "\n",
    "df[\"userID\"] = df[\"userID\"].astype(int)\n",
    "df[\"itemID\"] = df[\"itemID\"].astype(int)\n",
    "\n",
    "df.head()"
   ]
  },
  {
   "cell_type": "markdown",
   "id": "a1d474e2-47dc-4803-9452-b4d336378d49",
   "metadata": {},
   "source": [
    "## 2. Split the Data"
   ]
  },
  {
   "cell_type": "code",
   "execution_count": 10,
   "id": "00371f3b-859d-4d08-9fa2-2448bcd3f974",
   "metadata": {},
   "outputs": [],
   "source": [
    "# Split the data using the Spark chronological splitter provided in utilities\n",
    "\n",
    "train, test = python_chrono_split(df, 0.75)\n",
    "\n",
    "train_file = \"data/train.csv\"  # save train.csv in data file\n",
    "test_file = \"data/test.csv\"    # save test.csv in data file\n",
    "\n",
    "train.to_csv(train_file, index=False)\n",
    "test.to_csv(test_file, index=False)"
   ]
  },
  {
   "cell_type": "code",
   "execution_count": 11,
   "id": "1b481340-f7d5-451b-bf75-dbbb6059b472",
   "metadata": {},
   "outputs": [
    {
     "name": "stdout",
     "output_type": "stream",
     "text": [
      "<class 'pandas.core.frame.DataFrame'>\n",
      "Index: 185041 entries, 37126 to 137323\n",
      "Data columns (total 4 columns):\n",
      " #   Column     Non-Null Count   Dtype         \n",
      "---  ------     --------------   -----         \n",
      " 0   userID     185041 non-null  int32         \n",
      " 1   itemID     185041 non-null  int32         \n",
      " 2   rating     185041 non-null  int64         \n",
      " 3   timestamp  185041 non-null  datetime64[ns]\n",
      "dtypes: datetime64[ns](1), int32(2), int64(1)\n",
      "memory usage: 5.6 MB\n"
     ]
    }
   ],
   "source": [
    "train.info()"
   ]
  },
  {
   "cell_type": "code",
   "execution_count": 12,
   "id": "d22a54f0-e125-438b-a9fc-d759120ede79",
   "metadata": {},
   "outputs": [
    {
     "name": "stdout",
     "output_type": "stream",
     "text": [
      "<class 'pandas.core.frame.DataFrame'>\n",
      "Index: 61665 entries, 153935 to 137339\n",
      "Data columns (total 4 columns):\n",
      " #   Column     Non-Null Count  Dtype         \n",
      "---  ------     --------------  -----         \n",
      " 0   userID     61665 non-null  int32         \n",
      " 1   itemID     61665 non-null  int32         \n",
      " 2   rating     61665 non-null  int64         \n",
      " 3   timestamp  61665 non-null  datetime64[ns]\n",
      "dtypes: datetime64[ns](1), int32(2), int64(1)\n",
      "memory usage: 1.9 MB\n"
     ]
    }
   ],
   "source": [
    "test.info()"
   ]
  },
  {
   "cell_type": "markdown",
   "id": "1adc5835-94d2-447c-a5d9-b1abd44540e5",
   "metadata": {},
   "source": [
    "## 3. Train the NCF Model"
   ]
  },
  {
   "cell_type": "markdown",
   "id": "260e7a14-ef11-4d8e-b6e5-03b5571069eb",
   "metadata": {},
   "source": [
    "<div style=\"text-align:left;\">\n",
    "    <img src='images/nfc.png' width='800'>\n",
    "</div>"
   ]
  },
  {
   "cell_type": "markdown",
   "id": "c93ad544-7bbd-4a6d-8d22-6a0dfeaadc6e",
   "metadata": {},
   "source": [
    "`Collaborative filtering` methods have been the most popular for building recommendation systems in various domains. Popular techniques like `matrix\n",
    "factorization` have been extensively used because they are easy to implement and provide accurate predictions. But in recent times, through new areas of research, deep learning– based models are being used increasingly in all domains, including collaborative filtering."
   ]
  },
  {
   "cell_type": "code",
   "execution_count": 15,
   "id": "ad9e8c7d-dd90-4ab9-88bf-332a1a5e489d",
   "metadata": {},
   "outputs": [
    {
     "name": "stderr",
     "output_type": "stream",
     "text": [
      "INFO:recommenders.models.ncf.dataset:Indexing data/train.csv ...\n",
      "INFO:recommenders.models.ncf.dataset:Indexing data/test.csv ...\n",
      "INFO:recommenders.models.ncf.dataset:Indexing data/test_full.csv ...\n"
     ]
    }
   ],
   "source": [
    "# Train the Neural Collaborative Filtering model on the training data, \n",
    "# and get the top-k recommendations for our testing data\n",
    "\n",
    "data = NCFDataset(train_file=train_file, test_file=test_file, seed=SEED)"
   ]
  },
  {
   "cell_type": "code",
   "execution_count": 16,
   "id": "9cc8a482-b3b6-434d-80c2-543320895560",
   "metadata": {},
   "outputs": [],
   "source": [
    "model = NCF (\n",
    "    n_users=data.n_users, \n",
    "    n_items=data.n_items,\n",
    "    model_type=\"NeuMF\",\n",
    "    n_factors=4,\n",
    "    layer_sizes=[16,8,4],\n",
    "    n_epochs=EPOCHS,\n",
    "    batch_size=BATCH_SIZE,\n",
    "    learning_rate=1e-3,\n",
    "    verbose=10,\n",
    "    seed=SEED)"
   ]
  },
  {
   "cell_type": "code",
   "execution_count": null,
   "id": "8239a782-9e3c-4da4-a0ad-7988bf4e66d8",
   "metadata": {},
   "outputs": [
    {
     "name": "stderr",
     "output_type": "stream",
     "text": [
      "INFO:recommenders.models.ncf.ncf_singlenode:Epoch 10 [26.54s]: train_loss = 0.310240 \n",
      "INFO:recommenders.models.ncf.ncf_singlenode:Epoch 20 [25.55s]: train_loss = 0.293256 \n",
      "INFO:recommenders.models.ncf.ncf_singlenode:Epoch 30 [26.85s]: train_loss = 0.286458 \n"
     ]
    }
   ],
   "source": [
    "with Timer() as train_time:\n",
    "    model.fit(data)\n",
    "\n",
    "print(\"Took {} seconds for training.\".format(train_time))"
   ]
  },
  {
   "cell_type": "code",
   "execution_count": null,
   "id": "61694328-7369-4f6a-8024-7e554771434b",
   "metadata": {},
   "outputs": [],
   "source": [
    "with Timer() as test_time:\n",
    "    users, items, preds = [], [], []\n",
    "    item = list(train.itemID.unique())\n",
    "    for user in train.userID.unique():\n",
    "        user = [user] * len(item) \n",
    "        users.extend(user)\n",
    "        items.extend(item)\n",
    "        preds.extend(list(model.predict(user, item, is_list=True)))\n",
    "\n",
    "    all_predictions = pd.DataFrame(data={\"userID\": users, \"itemID\":items, \"prediction\":preds})\n",
    "\n",
    "    merged = pd.merge(train, all_predictions, on=[\"userID\", \"itemID\"], how=\"outer\")\n",
    "    all_predictions = merged[merged.rating.isnull()].drop('rating', axis=1)\n",
    "\n",
    "print(\"Took {} seconds for prediction.\".format(test_time))"
   ]
  },
  {
   "cell_type": "markdown",
   "id": "efe54282-28da-4d51-a0ab-9367de4058db",
   "metadata": {},
   "source": [
    "## 4. Evaluate How Well NCF Performs\n",
    "The ranking metrics are used for evaluation."
   ]
  },
  {
   "cell_type": "code",
   "execution_count": null,
   "id": "5904909f-83ec-420c-a4ab-d6dba4eb11d2",
   "metadata": {},
   "outputs": [],
   "source": [
    "eval_map = map_at_k(test, all_predictions, col_prediction='prediction', k=TOP_K)\n",
    "eval_ndcg = ndcg_at_k(test, all_predictions, col_prediction='prediction', k=TOP_K)\n",
    "eval_precision = precision_at_k(test, all_predictions, col_prediction='prediction', k=TOP_K)\n",
    "eval_recall = recall_at_k(test, all_predictions, col_prediction='prediction', k=TOP_K)\n",
    "\n",
    "print(\"MAP:\\t%f\" % eval_map,\n",
    "      \"NDCG:\\t%f\" % eval_ndcg,\n",
    "      \"Precision@K:\\t%f\" % eval_precision,\n",
    "      \"Recall@K:\\t%f\" % eval_recall, sep='\\n')"
   ]
  },
  {
   "cell_type": "code",
   "execution_count": null,
   "id": "b7af2175-c3e8-4192-8ecb-ac6786bbaa14",
   "metadata": {},
   "outputs": [],
   "source": [
    "df_order = pd.read_excel('data/Rec_sys_data.xlsx', 'order')\n",
    "df_customer = pd.read_excel('data/Rec_sys_data.xlsx', 'customer')\n",
    "df_product = pd.read_excel('data/Rec_sys_data.xlsx', 'product')"
   ]
  }
 ],
 "metadata": {
  "kernelspec": {
   "display_name": "Python 3 (ipykernel)",
   "language": "python",
   "name": "python3"
  },
  "language_info": {
   "codemirror_mode": {
    "name": "ipython",
    "version": 3
   },
   "file_extension": ".py",
   "mimetype": "text/x-python",
   "name": "python",
   "nbconvert_exporter": "python",
   "pygments_lexer": "ipython3",
   "version": "3.11.7"
  }
 },
 "nbformat": 4,
 "nbformat_minor": 5
}
