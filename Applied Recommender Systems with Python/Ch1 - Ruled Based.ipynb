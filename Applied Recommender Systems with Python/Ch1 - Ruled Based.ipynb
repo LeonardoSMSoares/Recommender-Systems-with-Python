{
 "cells": [
  {
   "cell_type": "markdown",
   "id": "3763c0a1-4118-4610-838e-27d9985fbceb",
   "metadata": {},
   "source": [
    "# Chapter 1- Rule Based - Popularity & Buy Again"
   ]
  },
  {
   "cell_type": "code",
   "execution_count": null,
   "id": "02a43648-521f-474b-85ad-53338ea06b0d",
   "metadata": {},
   "outputs": [],
   "source": []
  }
 ],
 "metadata": {
  "kernelspec": {
   "display_name": "Python 3 (ipykernel)",
   "language": "python",
   "name": "python3"
  },
  "language_info": {
   "codemirror_mode": {
    "name": "ipython",
    "version": 3
   },
   "file_extension": ".py",
   "mimetype": "text/x-python",
   "name": "python",
   "nbconvert_exporter": "python",
   "pygments_lexer": "ipython3",
   "version": "3.11.7"
  }
 },
 "nbformat": 4,
 "nbformat_minor": 5
}
