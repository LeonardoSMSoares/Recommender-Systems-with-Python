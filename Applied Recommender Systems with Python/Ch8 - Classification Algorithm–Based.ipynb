{
 "cells": [
  {
   "cell_type": "markdown",
   "id": "892dd700-69ce-4efd-9e7e-7ab420a0ba23",
   "metadata": {},
   "source": [
    "# Chapter 8 - Classification Algorithm–Based Recommender Systems"
   ]
  },
  {
   "cell_type": "markdown",
   "id": "92969969-1c2d-465d-be0e-fd59f50e2004",
   "metadata": {},
   "source": [
    "<div style=\"text-align:center;\">\n",
    "    <img src='images/cluster.jpg' width='400'>\n",
    "</div>"
   ]
  },
  {
   "cell_type": "markdown",
   "id": "32d0ca4e-fb64-4add-99d5-ac3f639b5eba",
   "metadata": {},
   "source": [
    "A classification algorithm-based recommender system is also known as the *buying propensity model*. The goal here is to predict the propensity of customers to buy a product using historical behavior and purchases.\n",
    "\r\n",
    "The more accurately you predict future purchases, the better recommendation \r",
    "and, in turn, sales. This kind of recommender system is used more often to ensur \r",
    "100% conversion from the users who are likely to purchase with certain probabilities \r",
    "Promotions are offered on those products, enticing users to make a purchase.."
   ]
  },
  {
   "cell_type": "code",
   "execution_count": 1,
   "id": "a183f6aa-f435-4c45-9145-0260ee8a61e6",
   "metadata": {},
   "outputs": [],
   "source": [
    "# Importing libraries\n",
    "\n",
    "import pandas as pd\n",
    "import numpy as np\n",
    "\n",
    "import matplotlib.pyplot as plt\n",
    "import seaborn as sns\n",
    "\n",
    "from IPython.display import Image\n",
    "import os\n",
    "\n",
    "from sklearn import preprocessing\n",
    "from sklearn.model_selection import train_test_split\n",
    "from sklearn.metrics import accuracy_score,confusion_matrix,classification_report\n",
    "from sklearn.linear_model import LogisticRegression\n",
    "from imblearn.combine import SMOTETomek\n",
    "\n",
    "from collections import Counter\n",
    "\n",
    "from sklearn.ensemble import RandomForestClassifier\n",
    "from sklearn.metrics import roc_auc_score, roc_curve\n",
    "from sklearn.neighbors import KNeighborsClassifier\n",
    "from sklearn.metrics import roc_curve, roc_auc_score\n",
    "from sklearn.naive_bayes import GaussianNB\n",
    "from sklearn import tree\n",
    "from sklearn.tree import DecisionTreeClassifier\n",
    "\n",
    "from xgboost import XGBClassifier\n",
    "\n",
    "import warnings\n",
    "warnings.filterwarnings(\"ignore\")"
   ]
  },
  {
   "cell_type": "markdown",
   "id": "ac78f13c-abe9-4998-b17f-43bac1ea6d4b",
   "metadata": {},
   "source": [
    "### Creating the Dataset"
   ]
  },
  {
   "cell_type": "code",
   "execution_count": 2,
   "id": "9087c6df-dc79-4eb1-b0ea-a6b4e51e2db2",
   "metadata": {},
   "outputs": [],
   "source": [
    "#read csv data\n",
    "\n",
    "record_df = pd.read_excel(\"data/Rec_sys_data.xlsx\")\n",
    "customer_df = pd.read_excel(\"data/Rec_sys_data.xlsx\", sheet_name = 'customer')\n",
    "prod_df = pd.read_excel(\"data/Rec_sys_data.xlsx\", sheet_name = 'product')"
   ]
  },
  {
   "cell_type": "code",
   "execution_count": 3,
   "id": "aa0ef4ac-c1b5-4373-82a0-ea6e803f2bc4",
   "metadata": {},
   "outputs": [
    {
     "data": {
      "text/html": [
       "<div>\n",
       "<style scoped>\n",
       "    .dataframe tbody tr th:only-of-type {\n",
       "        vertical-align: middle;\n",
       "    }\n",
       "\n",
       "    .dataframe tbody tr th {\n",
       "        vertical-align: top;\n",
       "    }\n",
       "\n",
       "    .dataframe thead th {\n",
       "        text-align: right;\n",
       "    }\n",
       "</style>\n",
       "<table border=\"1\" class=\"dataframe\">\n",
       "  <thead>\n",
       "    <tr style=\"text-align: right;\">\n",
       "      <th></th>\n",
       "      <th>InvoiceNo</th>\n",
       "      <th>StockCode</th>\n",
       "      <th>Quantity</th>\n",
       "      <th>InvoiceDate</th>\n",
       "      <th>DeliveryDate</th>\n",
       "      <th>Discount%</th>\n",
       "      <th>ShipMode</th>\n",
       "      <th>ShippingCost</th>\n",
       "      <th>CustomerID</th>\n",
       "    </tr>\n",
       "  </thead>\n",
       "  <tbody>\n",
       "    <tr>\n",
       "      <th>0</th>\n",
       "      <td>536365</td>\n",
       "      <td>84029E</td>\n",
       "      <td>6</td>\n",
       "      <td>2010-12-01 08:26:00</td>\n",
       "      <td>2010-12-02 08:26:00</td>\n",
       "      <td>0.20</td>\n",
       "      <td>ExpressAir</td>\n",
       "      <td>30.12</td>\n",
       "      <td>17850</td>\n",
       "    </tr>\n",
       "    <tr>\n",
       "      <th>1</th>\n",
       "      <td>536365</td>\n",
       "      <td>71053</td>\n",
       "      <td>6</td>\n",
       "      <td>2010-12-01 08:26:00</td>\n",
       "      <td>2010-12-02 08:26:00</td>\n",
       "      <td>0.21</td>\n",
       "      <td>ExpressAir</td>\n",
       "      <td>30.12</td>\n",
       "      <td>17850</td>\n",
       "    </tr>\n",
       "    <tr>\n",
       "      <th>2</th>\n",
       "      <td>536365</td>\n",
       "      <td>21730</td>\n",
       "      <td>6</td>\n",
       "      <td>2010-12-01 08:26:00</td>\n",
       "      <td>2010-12-03 08:26:00</td>\n",
       "      <td>0.56</td>\n",
       "      <td>Regular Air</td>\n",
       "      <td>15.22</td>\n",
       "      <td>17850</td>\n",
       "    </tr>\n",
       "    <tr>\n",
       "      <th>3</th>\n",
       "      <td>536365</td>\n",
       "      <td>84406B</td>\n",
       "      <td>8</td>\n",
       "      <td>2010-12-01 08:26:00</td>\n",
       "      <td>2010-12-03 08:26:00</td>\n",
       "      <td>0.30</td>\n",
       "      <td>Regular Air</td>\n",
       "      <td>15.22</td>\n",
       "      <td>17850</td>\n",
       "    </tr>\n",
       "    <tr>\n",
       "      <th>4</th>\n",
       "      <td>536365</td>\n",
       "      <td>22752</td>\n",
       "      <td>2</td>\n",
       "      <td>2010-12-01 08:26:00</td>\n",
       "      <td>2010-12-04 08:26:00</td>\n",
       "      <td>0.57</td>\n",
       "      <td>Delivery Truck</td>\n",
       "      <td>5.81</td>\n",
       "      <td>17850</td>\n",
       "    </tr>\n",
       "  </tbody>\n",
       "</table>\n",
       "</div>"
      ],
      "text/plain": [
       "   InvoiceNo StockCode  Quantity         InvoiceDate        DeliveryDate  \\\n",
       "0     536365    84029E         6 2010-12-01 08:26:00 2010-12-02 08:26:00   \n",
       "1     536365     71053         6 2010-12-01 08:26:00 2010-12-02 08:26:00   \n",
       "2     536365     21730         6 2010-12-01 08:26:00 2010-12-03 08:26:00   \n",
       "3     536365    84406B         8 2010-12-01 08:26:00 2010-12-03 08:26:00   \n",
       "4     536365     22752         2 2010-12-01 08:26:00 2010-12-04 08:26:00   \n",
       "\n",
       "   Discount%        ShipMode  ShippingCost  CustomerID  \n",
       "0       0.20      ExpressAir         30.12       17850  \n",
       "1       0.21      ExpressAir         30.12       17850  \n",
       "2       0.56     Regular Air         15.22       17850  \n",
       "3       0.30     Regular Air         15.22       17850  \n",
       "4       0.57  Delivery Truck          5.81       17850  "
      ]
     },
     "execution_count": 3,
     "metadata": {},
     "output_type": "execute_result"
    }
   ],
   "source": [
    "record_df.head()"
   ]
  },
  {
   "cell_type": "code",
   "execution_count": 4,
   "id": "fb5139fe-1dfc-4f28-a904-20211b6472cb",
   "metadata": {},
   "outputs": [
    {
     "data": {
      "text/html": [
       "<div>\n",
       "<style scoped>\n",
       "    .dataframe tbody tr th:only-of-type {\n",
       "        vertical-align: middle;\n",
       "    }\n",
       "\n",
       "    .dataframe tbody tr th {\n",
       "        vertical-align: top;\n",
       "    }\n",
       "\n",
       "    .dataframe thead th {\n",
       "        text-align: right;\n",
       "    }\n",
       "</style>\n",
       "<table border=\"1\" class=\"dataframe\">\n",
       "  <thead>\n",
       "    <tr style=\"text-align: right;\">\n",
       "      <th></th>\n",
       "      <th>CustomerID</th>\n",
       "      <th>Gender</th>\n",
       "      <th>Age</th>\n",
       "      <th>Income</th>\n",
       "      <th>Zipcode</th>\n",
       "      <th>Customer Segment</th>\n",
       "    </tr>\n",
       "  </thead>\n",
       "  <tbody>\n",
       "    <tr>\n",
       "      <th>0</th>\n",
       "      <td>13089</td>\n",
       "      <td>male</td>\n",
       "      <td>53</td>\n",
       "      <td>High</td>\n",
       "      <td>8625</td>\n",
       "      <td>Small Business</td>\n",
       "    </tr>\n",
       "    <tr>\n",
       "      <th>1</th>\n",
       "      <td>15810</td>\n",
       "      <td>female</td>\n",
       "      <td>22</td>\n",
       "      <td>Low</td>\n",
       "      <td>87797</td>\n",
       "      <td>Small Business</td>\n",
       "    </tr>\n",
       "    <tr>\n",
       "      <th>2</th>\n",
       "      <td>15556</td>\n",
       "      <td>female</td>\n",
       "      <td>29</td>\n",
       "      <td>High</td>\n",
       "      <td>29257</td>\n",
       "      <td>Corporate</td>\n",
       "    </tr>\n",
       "    <tr>\n",
       "      <th>3</th>\n",
       "      <td>13137</td>\n",
       "      <td>male</td>\n",
       "      <td>29</td>\n",
       "      <td>Medium</td>\n",
       "      <td>97818</td>\n",
       "      <td>Middle class</td>\n",
       "    </tr>\n",
       "    <tr>\n",
       "      <th>4</th>\n",
       "      <td>16241</td>\n",
       "      <td>male</td>\n",
       "      <td>36</td>\n",
       "      <td>Low</td>\n",
       "      <td>79200</td>\n",
       "      <td>Small Business</td>\n",
       "    </tr>\n",
       "  </tbody>\n",
       "</table>\n",
       "</div>"
      ],
      "text/plain": [
       "   CustomerID  Gender  Age  Income  Zipcode Customer Segment\n",
       "0       13089    male   53    High     8625   Small Business\n",
       "1       15810  female   22     Low    87797   Small Business\n",
       "2       15556  female   29    High    29257        Corporate\n",
       "3       13137    male   29  Medium    97818     Middle class\n",
       "4       16241    male   36     Low    79200   Small Business"
      ]
     },
     "execution_count": 4,
     "metadata": {},
     "output_type": "execute_result"
    }
   ],
   "source": [
    "customer_df.head()"
   ]
  },
  {
   "cell_type": "code",
   "execution_count": 5,
   "id": "5f34f958-004d-47ef-bc56-a77c96cfdf70",
   "metadata": {},
   "outputs": [
    {
     "data": {
      "text/html": [
       "<div>\n",
       "<style scoped>\n",
       "    .dataframe tbody tr th:only-of-type {\n",
       "        vertical-align: middle;\n",
       "    }\n",
       "\n",
       "    .dataframe tbody tr th {\n",
       "        vertical-align: top;\n",
       "    }\n",
       "\n",
       "    .dataframe thead th {\n",
       "        text-align: right;\n",
       "    }\n",
       "</style>\n",
       "<table border=\"1\" class=\"dataframe\">\n",
       "  <thead>\n",
       "    <tr style=\"text-align: right;\">\n",
       "      <th></th>\n",
       "      <th>StockCode</th>\n",
       "      <th>Product Name</th>\n",
       "      <th>Description</th>\n",
       "      <th>Category</th>\n",
       "      <th>Brand</th>\n",
       "      <th>Unit Price</th>\n",
       "    </tr>\n",
       "  </thead>\n",
       "  <tbody>\n",
       "    <tr>\n",
       "      <th>0</th>\n",
       "      <td>22629</td>\n",
       "      <td>Ganma Superheroes Ordinary Life Case For Samsu...</td>\n",
       "      <td>New unique design, great gift.High quality pla...</td>\n",
       "      <td>Cell Phones|Cellphone Accessories|Cases &amp; Prot...</td>\n",
       "      <td>Ganma</td>\n",
       "      <td>13.99</td>\n",
       "    </tr>\n",
       "    <tr>\n",
       "      <th>1</th>\n",
       "      <td>21238</td>\n",
       "      <td>Eye Buy Express Prescription Glasses Mens Wome...</td>\n",
       "      <td>Rounded rectangular cat-eye reading glasses. T...</td>\n",
       "      <td>Health|Home Health Care|Daily Living Aids</td>\n",
       "      <td>Eye Buy Express</td>\n",
       "      <td>19.22</td>\n",
       "    </tr>\n",
       "    <tr>\n",
       "      <th>2</th>\n",
       "      <td>22181</td>\n",
       "      <td>MightySkins Skin Decal Wrap Compatible with Ni...</td>\n",
       "      <td>Each Nintendo 2DS kit is printed with super-hi...</td>\n",
       "      <td>Video Games|Video Game Accessories|Accessories...</td>\n",
       "      <td>Mightyskins</td>\n",
       "      <td>14.99</td>\n",
       "    </tr>\n",
       "    <tr>\n",
       "      <th>3</th>\n",
       "      <td>84879</td>\n",
       "      <td>Mediven Sheer and Soft 15-20 mmHg Thigh w/ Lac...</td>\n",
       "      <td>The sheerest compression stocking in its class...</td>\n",
       "      <td>Health|Medicine Cabinet|Braces &amp; Supports</td>\n",
       "      <td>Medi</td>\n",
       "      <td>62.38</td>\n",
       "    </tr>\n",
       "    <tr>\n",
       "      <th>4</th>\n",
       "      <td>84836</td>\n",
       "      <td>Stupell Industries Chevron Initial Wall D cor</td>\n",
       "      <td>Features: -Made in the USA. -Sawtooth hanger o...</td>\n",
       "      <td>Home Improvement|Paint|Wall Decals|All Wall De...</td>\n",
       "      <td>Stupell Industries</td>\n",
       "      <td>35.99</td>\n",
       "    </tr>\n",
       "  </tbody>\n",
       "</table>\n",
       "</div>"
      ],
      "text/plain": [
       "  StockCode                                       Product Name  \\\n",
       "0     22629  Ganma Superheroes Ordinary Life Case For Samsu...   \n",
       "1     21238  Eye Buy Express Prescription Glasses Mens Wome...   \n",
       "2     22181  MightySkins Skin Decal Wrap Compatible with Ni...   \n",
       "3     84879  Mediven Sheer and Soft 15-20 mmHg Thigh w/ Lac...   \n",
       "4     84836      Stupell Industries Chevron Initial Wall D cor   \n",
       "\n",
       "                                         Description  \\\n",
       "0  New unique design, great gift.High quality pla...   \n",
       "1  Rounded rectangular cat-eye reading glasses. T...   \n",
       "2  Each Nintendo 2DS kit is printed with super-hi...   \n",
       "3  The sheerest compression stocking in its class...   \n",
       "4  Features: -Made in the USA. -Sawtooth hanger o...   \n",
       "\n",
       "                                            Category               Brand  \\\n",
       "0  Cell Phones|Cellphone Accessories|Cases & Prot...               Ganma   \n",
       "1          Health|Home Health Care|Daily Living Aids     Eye Buy Express   \n",
       "2  Video Games|Video Game Accessories|Accessories...         Mightyskins   \n",
       "3          Health|Medicine Cabinet|Braces & Supports                Medi   \n",
       "4  Home Improvement|Paint|Wall Decals|All Wall De...  Stupell Industries   \n",
       "\n",
       "   Unit Price  \n",
       "0       13.99  \n",
       "1       19.22  \n",
       "2       14.99  \n",
       "3       62.38  \n",
       "4       35.99  "
      ]
     },
     "execution_count": 5,
     "metadata": {},
     "output_type": "execute_result"
    }
   ],
   "source": [
    "prod_df.head()"
   ]
  },
  {
   "cell_type": "markdown",
   "id": "5f59f766-9720-4029-a816-9c01f22ee9e7",
   "metadata": {},
   "source": [
    "### Pre Processing"
   ]
  },
  {
   "cell_type": "code",
   "execution_count": 6,
   "id": "be310915-321e-4c5a-83ad-d12545f6798f",
   "metadata": {},
   "outputs": [
    {
     "name": "stdout",
     "output_type": "stream",
     "text": [
      "(192758, 1)\n"
     ]
    },
    {
     "data": {
      "text/html": [
       "<div>\n",
       "<style scoped>\n",
       "    .dataframe tbody tr th:only-of-type {\n",
       "        vertical-align: middle;\n",
       "    }\n",
       "\n",
       "    .dataframe tbody tr th {\n",
       "        vertical-align: top;\n",
       "    }\n",
       "\n",
       "    .dataframe thead th {\n",
       "        text-align: right;\n",
       "    }\n",
       "</style>\n",
       "<table border=\"1\" class=\"dataframe\">\n",
       "  <thead>\n",
       "    <tr style=\"text-align: right;\">\n",
       "      <th></th>\n",
       "      <th></th>\n",
       "      <th>Quantity</th>\n",
       "    </tr>\n",
       "    <tr>\n",
       "      <th>StockCode</th>\n",
       "      <th>CustomerID</th>\n",
       "      <th></th>\n",
       "    </tr>\n",
       "  </thead>\n",
       "  <tbody>\n",
       "    <tr>\n",
       "      <th rowspan=\"5\" valign=\"top\">10002</th>\n",
       "      <th>12451</th>\n",
       "      <td>12</td>\n",
       "    </tr>\n",
       "    <tr>\n",
       "      <th>12510</th>\n",
       "      <td>24</td>\n",
       "    </tr>\n",
       "    <tr>\n",
       "      <th>12583</th>\n",
       "      <td>48</td>\n",
       "    </tr>\n",
       "    <tr>\n",
       "      <th>12637</th>\n",
       "      <td>12</td>\n",
       "    </tr>\n",
       "    <tr>\n",
       "      <th>12673</th>\n",
       "      <td>1</td>\n",
       "    </tr>\n",
       "  </tbody>\n",
       "</table>\n",
       "</div>"
      ],
      "text/plain": [
       "                      Quantity\n",
       "StockCode CustomerID          \n",
       "10002     12451             12\n",
       "          12510             24\n",
       "          12583             48\n",
       "          12637             12\n",
       "          12673              1"
      ]
     },
     "execution_count": 6,
     "metadata": {},
     "output_type": "execute_result"
    }
   ],
   "source": [
    "# group By Stockcode and CustomerID and sum the Quantity\n",
    "group = pd.DataFrame(record_df.groupby(['StockCode', 'CustomerID']).\n",
    "Quantity.sum())\n",
    "print(group.shape)\n",
    "group.head()"
   ]
  },
  {
   "cell_type": "code",
   "execution_count": 7,
   "id": "40fa5141-b7db-4f4b-8810-13f5b2ae0008",
   "metadata": {},
   "outputs": [
    {
     "name": "stdout",
     "output_type": "stream",
     "text": [
      "InvoiceNo       0\n",
      "StockCode       0\n",
      "Quantity        0\n",
      "InvoiceDate     0\n",
      "DeliveryDate    0\n",
      "Discount%       0\n",
      "ShipMode        0\n",
      "ShippingCost    0\n",
      "CustomerID      0\n",
      "dtype: int64\n",
      "--------------\n",
      "CustomerID          0\n",
      "Gender              0\n",
      "Age                 0\n",
      "Income              0\n",
      "Zipcode             0\n",
      "Customer Segment    0\n",
      "dtype: int64\n"
     ]
    }
   ],
   "source": [
    "#Check for null values\n",
    "print(record_df.isnull().sum())\n",
    "print(\"--------------\")\n",
    "print(customer_df.isnull().sum())"
   ]
  },
  {
   "cell_type": "code",
   "execution_count": 8,
   "id": "f8b2247a-9652-4d8a-9a2d-03158511eb53",
   "metadata": {},
   "outputs": [
    {
     "data": {
      "text/html": [
       "<div>\n",
       "<style scoped>\n",
       "    .dataframe tbody tr th:only-of-type {\n",
       "        vertical-align: middle;\n",
       "    }\n",
       "\n",
       "    .dataframe tbody tr th {\n",
       "        vertical-align: top;\n",
       "    }\n",
       "\n",
       "    .dataframe thead th {\n",
       "        text-align: right;\n",
       "    }\n",
       "</style>\n",
       "<table border=\"1\" class=\"dataframe\">\n",
       "  <thead>\n",
       "    <tr style=\"text-align: right;\">\n",
       "      <th></th>\n",
       "      <th>StockCode</th>\n",
       "      <th>CustomerID</th>\n",
       "    </tr>\n",
       "  </thead>\n",
       "  <tbody>\n",
       "    <tr>\n",
       "      <th>0</th>\n",
       "      <td>85049F</td>\n",
       "      <td>13829</td>\n",
       "    </tr>\n",
       "    <tr>\n",
       "      <th>1</th>\n",
       "      <td>85049F</td>\n",
       "      <td>12456</td>\n",
       "    </tr>\n",
       "    <tr>\n",
       "      <th>2</th>\n",
       "      <td>85049F</td>\n",
       "      <td>14507</td>\n",
       "    </tr>\n",
       "    <tr>\n",
       "      <th>3</th>\n",
       "      <td>85049F</td>\n",
       "      <td>13643</td>\n",
       "    </tr>\n",
       "    <tr>\n",
       "      <th>4</th>\n",
       "      <td>85049F</td>\n",
       "      <td>17600</td>\n",
       "    </tr>\n",
       "  </tbody>\n",
       "</table>\n",
       "</div>"
      ],
      "text/plain": [
       "  StockCode  CustomerID\n",
       "0    85049F       13829\n",
       "1    85049F       12456\n",
       "2    85049F       14507\n",
       "3    85049F       13643\n",
       "4    85049F       17600"
      ]
     },
     "execution_count": 8,
     "metadata": {},
     "output_type": "execute_result"
    }
   ],
   "source": [
    "#Loading the CustomerID and StockCode into different variable d1, d2\n",
    "d2 = customer_df['CustomerID']\n",
    "d1 = record_df[\"StockCode\"]\n",
    "\n",
    "# Taking the sample of data and storing into two variables\n",
    "row = d1.sample(n= 900)\n",
    "row1 = d2.sample(n=900)\n",
    "\n",
    "# Cross product of row and row1\n",
    "index = pd.MultiIndex.from_product([row, row1])\n",
    "a = pd.DataFrame(index = index).reset_index()\n",
    "\n",
    "a.head()"
   ]
  },
  {
   "cell_type": "code",
   "execution_count": 9,
   "id": "a89e6559-9306-4238-b590-bb213a95a0a3",
   "metadata": {},
   "outputs": [
    {
     "data": {
      "text/html": [
       "<div>\n",
       "<style scoped>\n",
       "    .dataframe tbody tr th:only-of-type {\n",
       "        vertical-align: middle;\n",
       "    }\n",
       "\n",
       "    .dataframe tbody tr th {\n",
       "        vertical-align: top;\n",
       "    }\n",
       "\n",
       "    .dataframe thead th {\n",
       "        text-align: right;\n",
       "    }\n",
       "</style>\n",
       "<table border=\"1\" class=\"dataframe\">\n",
       "  <thead>\n",
       "    <tr style=\"text-align: right;\">\n",
       "      <th></th>\n",
       "      <th>CustomerID</th>\n",
       "      <th>StockCode</th>\n",
       "      <th>Quantity</th>\n",
       "    </tr>\n",
       "  </thead>\n",
       "  <tbody>\n",
       "    <tr>\n",
       "      <th>0</th>\n",
       "      <td>13829</td>\n",
       "      <td>85049F</td>\n",
       "      <td>NaN</td>\n",
       "    </tr>\n",
       "    <tr>\n",
       "      <th>1</th>\n",
       "      <td>12456</td>\n",
       "      <td>85049F</td>\n",
       "      <td>NaN</td>\n",
       "    </tr>\n",
       "    <tr>\n",
       "      <th>2</th>\n",
       "      <td>14507</td>\n",
       "      <td>85049F</td>\n",
       "      <td>1.0</td>\n",
       "    </tr>\n",
       "    <tr>\n",
       "      <th>3</th>\n",
       "      <td>13643</td>\n",
       "      <td>85049F</td>\n",
       "      <td>NaN</td>\n",
       "    </tr>\n",
       "    <tr>\n",
       "      <th>4</th>\n",
       "      <td>17600</td>\n",
       "      <td>85049F</td>\n",
       "      <td>NaN</td>\n",
       "    </tr>\n",
       "  </tbody>\n",
       "</table>\n",
       "</div>"
      ],
      "text/plain": [
       "   CustomerID StockCode  Quantity\n",
       "0       13829    85049F       NaN\n",
       "1       12456    85049F       NaN\n",
       "2       14507    85049F       1.0\n",
       "3       13643    85049F       NaN\n",
       "4       17600    85049F       NaN"
      ]
     },
     "execution_count": 9,
     "metadata": {},
     "output_type": "execute_result"
    }
   ],
   "source": [
    "#merge customerID and StockCode\n",
    "data = pd.merge(group,a, on = ['CustomerID', 'StockCode'], how = 'right')\n",
    "\n",
    "data.head()"
   ]
  },
  {
   "cell_type": "markdown",
   "id": "316e2478-ebb9-44f7-921d-272442f52059",
   "metadata": {},
   "source": [
    "As you can see, null values are present in the Quantity column. Let’s check for nulls."
   ]
  },
  {
   "cell_type": "code",
   "execution_count": 10,
   "id": "73259e1c-d02f-45b1-bbc4-b26aff60560c",
   "metadata": {},
   "outputs": [
    {
     "name": "stdout",
     "output_type": "stream",
     "text": [
      "777119\n",
      "(810000, 3)\n"
     ]
    }
   ],
   "source": [
    "#check total number of null values in quantity column\n",
    "print(data['Quantity'].isnull().sum())\n",
    "\n",
    "# check the shape of data that is number of rows and columns\n",
    "print(data.shape)"
   ]
  },
  {
   "cell_type": "code",
   "execution_count": 11,
   "id": "24dfc5f9-1819-433a-8ce0-6061bd879257",
   "metadata": {},
   "outputs": [
    {
     "name": "stdout",
     "output_type": "stream",
     "text": [
      "[   0    1   12    6    4    3   22    7   10    5  288   48   24    2\n",
      "   18   36   96    8    9  120   66   60   92   30   15   16   40   32\n",
      "   20  100   50  110   90   80  300   13   25  500   21  180  200   68\n",
      "   84   28   17   72   38   14   64   23  103   52   19   83  104   87\n",
      "   55   44  156  108  480 1848  102   51  144  240   26   42  216   11\n",
      "  112  352  122  128  896   35  294   53  448  160   29   49   47  601\n",
      "  254 3860  476   45  576   70  116  800  140  320   33  130   88  400\n",
      "   37  192  384  170   75  125  124   76   54   67  126   31  504  372\n",
      "  408  150  315   41  142   62   56  600   85   34   27  132   61  312\n",
      "   82  410  248  208 1632  357  101  370  168  138  432   74  131  792\n",
      "   43   39 2400  626 1080  298  269   46  328   58  880  176  532  360\n",
      "  276  135  244  348  114  232  204   95  264  924  390   91  768  310\n",
      "  336  191 1800  224  720 1824  344  295  118 1100 1248   98 1000   59\n",
      "   57   86  252  440   78  380 1920 1340 1200  700 3900  460   94  220\n",
      " 4000  190  210 2600  174  648   63  154   71 2800 1400  250  149]\n"
     ]
    }
   ],
   "source": [
    "# replacing nan values with 0\n",
    "data['Quantity'] = data['Quantity'].replace(np.nan, 0).astype(int)\n",
    "\n",
    "# Check all unique value of quantity column\n",
    "print(data['Quantity'].unique())"
   ]
  },
  {
   "cell_type": "code",
   "execution_count": 12,
   "id": "214dfe5e-ac3b-431f-a074-ceb090a39fc4",
   "metadata": {},
   "outputs": [
    {
     "data": {
      "text/html": [
       "<div>\n",
       "<style scoped>\n",
       "    .dataframe tbody tr th:only-of-type {\n",
       "        vertical-align: middle;\n",
       "    }\n",
       "\n",
       "    .dataframe tbody tr th {\n",
       "        vertical-align: top;\n",
       "    }\n",
       "\n",
       "    .dataframe thead th {\n",
       "        text-align: right;\n",
       "    }\n",
       "</style>\n",
       "<table border=\"1\" class=\"dataframe\">\n",
       "  <thead>\n",
       "    <tr style=\"text-align: right;\">\n",
       "      <th></th>\n",
       "      <th>StockCode</th>\n",
       "      <th>Category</th>\n",
       "      <th>Brand</th>\n",
       "      <th>Unit Price</th>\n",
       "    </tr>\n",
       "  </thead>\n",
       "  <tbody>\n",
       "    <tr>\n",
       "      <th>0</th>\n",
       "      <td>22629</td>\n",
       "      <td>Cell Phones|Cellphone Accessories|Cases &amp; Prot...</td>\n",
       "      <td>Ganma</td>\n",
       "      <td>13.99</td>\n",
       "    </tr>\n",
       "    <tr>\n",
       "      <th>1</th>\n",
       "      <td>21238</td>\n",
       "      <td>Health|Home Health Care|Daily Living Aids</td>\n",
       "      <td>Eye Buy Express</td>\n",
       "      <td>19.22</td>\n",
       "    </tr>\n",
       "    <tr>\n",
       "      <th>2</th>\n",
       "      <td>22181</td>\n",
       "      <td>Video Games|Video Game Accessories|Accessories...</td>\n",
       "      <td>Mightyskins</td>\n",
       "      <td>14.99</td>\n",
       "    </tr>\n",
       "    <tr>\n",
       "      <th>3</th>\n",
       "      <td>84879</td>\n",
       "      <td>Health|Medicine Cabinet|Braces &amp; Supports</td>\n",
       "      <td>Medi</td>\n",
       "      <td>62.38</td>\n",
       "    </tr>\n",
       "    <tr>\n",
       "      <th>4</th>\n",
       "      <td>84836</td>\n",
       "      <td>Home Improvement|Paint|Wall Decals|All Wall De...</td>\n",
       "      <td>Stupell Industries</td>\n",
       "      <td>35.99</td>\n",
       "    </tr>\n",
       "  </tbody>\n",
       "</table>\n",
       "</div>"
      ],
      "text/plain": [
       "  StockCode                                           Category  \\\n",
       "0     22629  Cell Phones|Cellphone Accessories|Cases & Prot...   \n",
       "1     21238          Health|Home Health Care|Daily Living Aids   \n",
       "2     22181  Video Games|Video Game Accessories|Accessories...   \n",
       "3     84879          Health|Medicine Cabinet|Braces & Supports   \n",
       "4     84836  Home Improvement|Paint|Wall Decals|All Wall De...   \n",
       "\n",
       "                Brand  Unit Price  \n",
       "0               Ganma       13.99  \n",
       "1     Eye Buy Express       19.22  \n",
       "2         Mightyskins       14.99  \n",
       "3                Medi       62.38  \n",
       "4  Stupell Industries       35.99  "
      ]
     },
     "execution_count": 12,
     "metadata": {},
     "output_type": "execute_result"
    }
   ],
   "source": [
    "# drop product name and description column\n",
    "product_data = prod_df.drop(['Product Name', 'Description'], axis = 1)\n",
    "product_data['Category'].str.split('::').str[0]\n",
    "\n",
    "product_data.head()"
   ]
  },
  {
   "cell_type": "code",
   "execution_count": 13,
   "id": "8c4ef87d-89f4-4818-836a-94180d56a011",
   "metadata": {},
   "outputs": [
    {
     "name": "stdout",
     "output_type": "stream",
     "text": [
      "(29912, 4)\n"
     ]
    },
    {
     "data": {
      "text/html": [
       "<div>\n",
       "<style scoped>\n",
       "    .dataframe tbody tr th:only-of-type {\n",
       "        vertical-align: middle;\n",
       "    }\n",
       "\n",
       "    .dataframe tbody tr th {\n",
       "        vertical-align: top;\n",
       "    }\n",
       "\n",
       "    .dataframe thead th {\n",
       "        text-align: right;\n",
       "    }\n",
       "</style>\n",
       "<table border=\"1\" class=\"dataframe\">\n",
       "  <thead>\n",
       "    <tr style=\"text-align: right;\">\n",
       "      <th></th>\n",
       "      <th>StockCode</th>\n",
       "      <th>Brand</th>\n",
       "      <th>Unit Price</th>\n",
       "      <th>Category</th>\n",
       "    </tr>\n",
       "  </thead>\n",
       "  <tbody>\n",
       "    <tr>\n",
       "      <th>0</th>\n",
       "      <td>22629</td>\n",
       "      <td>Ganma</td>\n",
       "      <td>13.99</td>\n",
       "      <td>Cell</td>\n",
       "    </tr>\n",
       "    <tr>\n",
       "      <th>1</th>\n",
       "      <td>21238</td>\n",
       "      <td>Eye Buy Express</td>\n",
       "      <td>19.22</td>\n",
       "      <td>Health</td>\n",
       "    </tr>\n",
       "    <tr>\n",
       "      <th>2</th>\n",
       "      <td>22181</td>\n",
       "      <td>Mightyskins</td>\n",
       "      <td>14.99</td>\n",
       "      <td>Video</td>\n",
       "    </tr>\n",
       "    <tr>\n",
       "      <th>3</th>\n",
       "      <td>84879</td>\n",
       "      <td>Medi</td>\n",
       "      <td>62.38</td>\n",
       "      <td>Health</td>\n",
       "    </tr>\n",
       "    <tr>\n",
       "      <th>4</th>\n",
       "      <td>84836</td>\n",
       "      <td>Stupell Industries</td>\n",
       "      <td>35.99</td>\n",
       "      <td>Home</td>\n",
       "    </tr>\n",
       "  </tbody>\n",
       "</table>\n",
       "</div>"
      ],
      "text/plain": [
       "  StockCode               Brand  Unit Price Category\n",
       "0     22629               Ganma       13.99     Cell\n",
       "1     21238     Eye Buy Express       19.22   Health\n",
       "2     22181         Mightyskins       14.99    Video\n",
       "3     84879                Medi       62.38   Health\n",
       "4     84836  Stupell Industries       35.99     Home"
      ]
     },
     "execution_count": 13,
     "metadata": {},
     "output_type": "execute_result"
    }
   ],
   "source": [
    "# extract the first string category column\n",
    "cate = product_data['Category'].str.extract(r\"(\\w+)\", expand=True)\n",
    "\n",
    "# join cat column with original dataset\n",
    "df2 = product_data.join(cate, lsuffix=\"_left\")\n",
    "df2.drop(['Category'], axis = 1, inplace = True)\n",
    "\n",
    "# rename column to Category\n",
    "df2 = df2.rename(columns = {0: 'Category'})\n",
    "print(df2.shape)\n",
    "\n",
    "df2.head()"
   ]
  },
  {
   "cell_type": "code",
   "execution_count": 14,
   "id": "28d6505b-1f47-4183-9296-51f10d750378",
   "metadata": {},
   "outputs": [
    {
     "data": {
      "text/plain": [
       "StockCode     25954\n",
       "Brand          1129\n",
       "Unit Price      118\n",
       "Category        792\n",
       "dtype: int64"
      ]
     },
     "execution_count": 14,
     "metadata": {},
     "output_type": "execute_result"
    }
   ],
   "source": [
    "#check for null values and drop it\n",
    "df2.isnull().sum()"
   ]
  },
  {
   "cell_type": "code",
   "execution_count": 15,
   "id": "cdb43057-d9ea-45b0-8248-48e7f0e88cfb",
   "metadata": {},
   "outputs": [
    {
     "data": {
      "text/plain": [
       "StockCode     0\n",
       "Brand         0\n",
       "Unit Price    0\n",
       "Category      0\n",
       "dtype: int64"
      ]
     },
     "execution_count": 15,
     "metadata": {},
     "output_type": "execute_result"
    }
   ],
   "source": [
    "df2.dropna(inplace = True)\n",
    "df2.isnull().sum()"
   ]
  },
  {
   "cell_type": "code",
   "execution_count": 16,
   "id": "9270d2c1-0b15-4266-864c-33f16f1d99db",
   "metadata": {},
   "outputs": [],
   "source": [
    "## save to csv file\n",
    "df2.to_csv(\"data/Products.csv\")"
   ]
  },
  {
   "cell_type": "code",
   "execution_count": 17,
   "id": "151d063c-1bbf-4bf6-89ca-fe15dfc391df",
   "metadata": {},
   "outputs": [],
   "source": [
    "# Load product dataset\n",
    "product = pd.read_csv(\"data/Products.csv\")\n",
    "\n",
    "product.head()"
   ]
  },
  {
   "cell_type": "code",
   "execution_count": 18,
   "id": "e5d7998a-11a7-47ae-a015-b459fe36e579",
   "metadata": {},
   "outputs": [
    {
     "data": {
      "text/html": [
       "<div>\n",
       "<style scoped>\n",
       "    .dataframe tbody tr th:only-of-type {\n",
       "        vertical-align: middle;\n",
       "    }\n",
       "\n",
       "    .dataframe tbody tr th {\n",
       "        vertical-align: top;\n",
       "    }\n",
       "\n",
       "    .dataframe thead th {\n",
       "        text-align: right;\n",
       "    }\n",
       "</style>\n",
       "<table border=\"1\" class=\"dataframe\">\n",
       "  <thead>\n",
       "    <tr style=\"text-align: right;\">\n",
       "      <th></th>\n",
       "      <th>CustomerID</th>\n",
       "      <th>Gender</th>\n",
       "      <th>Age</th>\n",
       "      <th>Income</th>\n",
       "      <th>Customer Segment</th>\n",
       "      <th>StockCode</th>\n",
       "      <th>Quantity</th>\n",
       "      <th>Brand</th>\n",
       "      <th>Unit Price</th>\n",
       "      <th>Category</th>\n",
       "    </tr>\n",
       "  </thead>\n",
       "  <tbody>\n",
       "    <tr>\n",
       "      <th>0</th>\n",
       "      <td>15810</td>\n",
       "      <td>female</td>\n",
       "      <td>22</td>\n",
       "      <td>Low</td>\n",
       "      <td>Small Business</td>\n",
       "      <td>85049F</td>\n",
       "      <td>0</td>\n",
       "      <td>Style &amp; Apply</td>\n",
       "      <td>69.95</td>\n",
       "      <td>Home</td>\n",
       "    </tr>\n",
       "    <tr>\n",
       "      <th>1</th>\n",
       "      <td>15810</td>\n",
       "      <td>female</td>\n",
       "      <td>22</td>\n",
       "      <td>Low</td>\n",
       "      <td>Small Business</td>\n",
       "      <td>85186A</td>\n",
       "      <td>0</td>\n",
       "      <td>UNOTUX</td>\n",
       "      <td>41.99</td>\n",
       "      <td>Clothing</td>\n",
       "    </tr>\n",
       "    <tr>\n",
       "      <th>2</th>\n",
       "      <td>15810</td>\n",
       "      <td>female</td>\n",
       "      <td>22</td>\n",
       "      <td>Low</td>\n",
       "      <td>Small Business</td>\n",
       "      <td>15056N</td>\n",
       "      <td>0</td>\n",
       "      <td>PeanutsÃƒâ€šÃ‚</td>\n",
       "      <td>9999.99</td>\n",
       "      <td>Home</td>\n",
       "    </tr>\n",
       "    <tr>\n",
       "      <th>3</th>\n",
       "      <td>15810</td>\n",
       "      <td>female</td>\n",
       "      <td>22</td>\n",
       "      <td>Low</td>\n",
       "      <td>Small Business</td>\n",
       "      <td>15056N</td>\n",
       "      <td>0</td>\n",
       "      <td>PeanutsÃƒâ€šÃ‚</td>\n",
       "      <td>9999.99</td>\n",
       "      <td>Home</td>\n",
       "    </tr>\n",
       "    <tr>\n",
       "      <th>4</th>\n",
       "      <td>15810</td>\n",
       "      <td>female</td>\n",
       "      <td>22</td>\n",
       "      <td>Low</td>\n",
       "      <td>Small Business</td>\n",
       "      <td>84029G</td>\n",
       "      <td>0</td>\n",
       "      <td>Ekena Milwork</td>\n",
       "      <td>136.00</td>\n",
       "      <td>Home</td>\n",
       "    </tr>\n",
       "  </tbody>\n",
       "</table>\n",
       "</div>"
      ],
      "text/plain": [
       "   CustomerID  Gender  Age Income Customer Segment StockCode  Quantity  \\\n",
       "0       15810  female   22    Low   Small Business    85049F         0   \n",
       "1       15810  female   22    Low   Small Business    85186A         0   \n",
       "2       15810  female   22    Low   Small Business    15056N         0   \n",
       "3       15810  female   22    Low   Small Business    15056N         0   \n",
       "4       15810  female   22    Low   Small Business    84029G         0   \n",
       "\n",
       "            Brand  Unit Price  Category  \n",
       "0   Style & Apply       69.95      Home  \n",
       "1          UNOTUX       41.99  Clothing  \n",
       "2  PeanutsÃƒâ€šÃ‚     9999.99      Home  \n",
       "3  PeanutsÃƒâ€šÃ‚     9999.99      Home  \n",
       "4   Ekena Milwork      136.00      Home  "
      ]
     },
     "execution_count": 18,
     "metadata": {},
     "output_type": "execute_result"
    }
   ],
   "source": [
    "## Merge data and product dataset\n",
    "final_data = pd.merge(data, product, on= 'StockCode')\n",
    "\n",
    "# create final dataset by merging customer & final data\n",
    "final_data1 = pd.merge(customer_df, final_data, on = 'CustomerID')\n",
    "\n",
    "# Drop Unnamed and zipcode column\n",
    "final_data1.drop(['Unnamed: 0', 'Zipcode'], axis = 1, inplace = True)\n",
    "\n",
    "final_data1.head()"
   ]
  },
  {
   "cell_type": "code",
   "execution_count": null,
   "id": "92d6bd0e-b720-4494-a031-82e403aaa8ca",
   "metadata": {},
   "outputs": [],
   "source": [
    "print(final_data1.shape)"
   ]
  },
  {
   "cell_type": "code",
   "execution_count": 19,
   "id": "7ac9c372-bf62-4be8-928e-93da0c962d2d",
   "metadata": {},
   "outputs": [
    {
     "name": "stdout",
     "output_type": "stream",
     "text": [
      "(65700, 10)\n"
     ]
    },
    {
     "data": {
      "text/plain": [
       "CustomerID          0\n",
       "Gender              0\n",
       "Age                 0\n",
       "Income              0\n",
       "Customer Segment    0\n",
       "StockCode           0\n",
       "Quantity            0\n",
       "Brand               0\n",
       "Unit Price          0\n",
       "Category            0\n",
       "dtype: int64"
      ]
     },
     "execution_count": 19,
     "metadata": {},
     "output_type": "execute_result"
    }
   ],
   "source": [
    "# Check for null values in each columns\n",
    "final_data1.isnull().sum()"
   ]
  },
  {
   "cell_type": "code",
   "execution_count": 20,
   "id": "2ad9a49b-179f-411e-aeb3-b2dd12c53dd4",
   "metadata": {},
   "outputs": [
    {
     "name": "stdout",
     "output_type": "stream",
     "text": [
      "['Home' 'Clothing' 'Health' 'Beauty' 'Electronics' 'Auto' 'Party' 'Office'\n",
      " 'Household' 'Movies' 'Jewelry' 'Baby' 'Cell']\n",
      "------------\n",
      "\n",
      "['Low' 'Medium' 'High']\n",
      "------------\n",
      "\n",
      "['Style & Apply' 'UNOTUX' 'PeanutsÃƒâ€šÃ‚' 'Ekena Milwork' 'Medi'\n",
      " 'Tom Ford' 'Mightyskins' 'Stupell Industries' 'Style and Apply' 'Prop?t'\n",
      " '2Bhip' 'Zoan' 'PlushDeluxe' 'Envelopes.com' 'Business Essentials'\n",
      " 'New Way' 'Ames Walker' 'JustVH' 'Aviana' 'Classique'\n",
      " 'Augusta Sportswear' 'Edwards' 'Eye Buy Express' 'Sport-Tek'\n",
      " 'WARNER STUDIOS' 'MusicBoxAttic' 'City Shirts' 'ELENXS' 'Casual Nights'\n",
      " 'Duda Energy' 'Awkward Styles' 'CHOSEN SUPPLIES' 'Ishow Hair'\n",
      " 'Port Authority']\n",
      "------------\n",
      "\n",
      "['Small Business' 'Middle class' 'Corporate']\n",
      "------------\n",
      "\n",
      "['female' 'male']\n",
      "------------\n",
      "\n",
      "[   0   24    8   52   16   11    9    3    4    2    1   45   47   56\n",
      "   50  140  120  110  122  108    6   25   10   12   17   20   36   32\n",
      "   48   53   30   13  768   44    7   15  200  220  896  248  208  500\n",
      " 1200  400  448   60   23   26 1000  600  160   96   49   19  125   40\n",
      "  254    5   14   21   28   38   64   70  112   94   90   55   18  104\n",
      "   80  180  432  100  300   42   27 3900 2800  294   22   33  344  232\n",
      "   35   87  601   54  460   88  476  128 3860   83   72  700  352   68\n",
      "  576   29  144  149]\n"
     ]
    }
   ],
   "source": [
    "#Check for unique value in each categorical columns\n",
    "print(final_data1['Category'].unique())\n",
    "print('------------\\n')\n",
    "print(final_data1['Income'].unique())\n",
    "print('------------\\n')\n",
    "print(final_data1['Brand'].unique())\n",
    "print('------------\\n')\n",
    "print(final_data1['Customer Segment'].unique())\n",
    "print('------------\\n')\n",
    "print(final_data1['Gender'].unique())\n",
    "print('------------\\n')\n",
    "print(final_data1['Quantity'].unique())"
   ]
  },
  {
   "cell_type": "code",
   "execution_count": 21,
   "id": "a1f53285-674e-4789-9720-10f4617ac3d1",
   "metadata": {},
   "outputs": [
    {
     "name": "stdout",
     "output_type": "stream",
     "text": [
      "['Style and Apply' 'UNOTUX' 'PeanutsÃƒâ€šÃ‚' 'Ekena Milwork' 'Medi'\n",
      " 'Tom Ford' 'Mightyskins' 'Stupell Industries' 'Propt' '2Bhip' 'Zoan'\n",
      " 'PlushDeluxe' 'Envelopes.com' 'Business Essentials' 'New Way'\n",
      " 'Ames Walker' 'JustVH' 'Aviana' 'Classique' 'Augusta Sportswear'\n",
      " 'Edwards' 'Eye Buy Express' 'Sport-Tek' 'WARNER STUDIOS' 'MusicBoxAttic'\n",
      " 'City Shirts' 'ELENXS' 'Casual Nights' 'Duda Energy' 'Awkward Styles'\n",
      " 'CHOSEN SUPPLIES' 'Ishow Hair' 'Port Authority']\n"
     ]
    }
   ],
   "source": [
    "# test cleaning\n",
    "final_data1['Brand'] = final_data1['Brand'].str.replace('?', '')\n",
    "final_data1['Brand'] = final_data1['Brand'].str.replace('&', 'and')\n",
    "final_data1['Brand'] = final_data1['Brand'].str.replace('(', '')\n",
    "final_data1['Brand'] = final_data1['Brand'].str.replace(')', '')\n",
    "\n",
    "print(final_data1['Brand'].unique())"
   ]
  },
  {
   "cell_type": "markdown",
   "id": "228568a9-f312-41dc-9980-d89e0877d705",
   "metadata": {},
   "source": [
    "### Feature Engineering"
   ]
  },
  {
   "cell_type": "code",
   "execution_count": null,
   "id": "9ff34ab6-8386-483a-ace2-c9b26acf6339",
   "metadata": {},
   "outputs": [],
   "source": []
  },
  {
   "cell_type": "code",
   "execution_count": null,
   "id": "3a47e4d0-e9fe-490f-b96d-1d375800c297",
   "metadata": {},
   "outputs": [],
   "source": []
  },
  {
   "cell_type": "code",
   "execution_count": null,
   "id": "149d25a2-8987-4645-80be-1ecafb8d6a57",
   "metadata": {},
   "outputs": [],
   "source": []
  },
  {
   "cell_type": "code",
   "execution_count": null,
   "id": "5cc45838-c2eb-4883-bc2f-1357e43ab66a",
   "metadata": {},
   "outputs": [],
   "source": []
  },
  {
   "cell_type": "code",
   "execution_count": null,
   "id": "24ae56e6-012e-40f3-9e3d-3055b8dc7c87",
   "metadata": {},
   "outputs": [],
   "source": []
  },
  {
   "cell_type": "code",
   "execution_count": null,
   "id": "c19fa3c8-bad8-4fad-95ef-0399f2c0171c",
   "metadata": {},
   "outputs": [],
   "source": []
  },
  {
   "cell_type": "code",
   "execution_count": null,
   "id": "14da33fd-ccf8-414a-9146-7da259595ef6",
   "metadata": {},
   "outputs": [],
   "source": []
  }
 ],
 "metadata": {
  "kernelspec": {
   "display_name": "Python 3 (ipykernel)",
   "language": "python",
   "name": "python3"
  },
  "language_info": {
   "codemirror_mode": {
    "name": "ipython",
    "version": 3
   },
   "file_extension": ".py",
   "mimetype": "text/x-python",
   "name": "python",
   "nbconvert_exporter": "python",
   "pygments_lexer": "ipython3",
   "version": "3.11.7"
  }
 },
 "nbformat": 4,
 "nbformat_minor": 5
}
