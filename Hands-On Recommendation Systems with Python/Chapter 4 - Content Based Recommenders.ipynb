{
 "cells": [
  {
   "cell_type": "markdown",
   "id": "166dacd5-37e2-4ae5-9e37-b99882386d40",
   "metadata": {},
   "source": [
    "# Chapter 4 - Content Based Recommenders"
   ]
  },
  {
   "cell_type": "markdown",
   "id": "32620cab-6ec7-46b8-aec1-8d16a4f3f59e",
   "metadata": {},
   "source": [
    "In this chapter, we are going to build two types of content-based recommender:\n",
    "\r",
    "**\n",
    "Plot description-based recommender**: This mode \r\n",
    "compares the descriptions and taglines of different movies, a d\r\n",
    "provides recommendations that have the most similar p ot\r\n",
    "descripti\n",
    "\n",
    "**ns.\r\n",
    "Metadata-based recomme**nder: This model takes a ho t of\r",
    "features, such as genres, keywords, cast, and crew, into\r",
    "consideration and pro ides recommendations that are the most\r",
    "similar with respect to the aforementioned features."
   ]
  },
  {
   "cell_type": "code",
   "execution_count": 1,
   "id": "262fd1e7-99cd-4d21-a4a0-34e1ba17671e",
   "metadata": {},
   "outputs": [],
   "source": [
    "# Initial Libraries\n",
    "import pandas as pd\n",
    "import numpy as np"
   ]
  },
  {
   "cell_type": "code",
   "execution_count": 2,
   "id": "a56506de-4207-4ddf-b836-28cac7473142",
   "metadata": {},
   "outputs": [
    {
     "data": {
      "text/html": [
       "<div>\n",
       "<style scoped>\n",
       "    .dataframe tbody tr th:only-of-type {\n",
       "        vertical-align: middle;\n",
       "    }\n",
       "\n",
       "    .dataframe tbody tr th {\n",
       "        vertical-align: top;\n",
       "    }\n",
       "\n",
       "    .dataframe thead th {\n",
       "        text-align: right;\n",
       "    }\n",
       "</style>\n",
       "<table border=\"1\" class=\"dataframe\">\n",
       "  <thead>\n",
       "    <tr style=\"text-align: right;\">\n",
       "      <th></th>\n",
       "      <th>title</th>\n",
       "      <th>genres</th>\n",
       "      <th>runtime</th>\n",
       "      <th>vote_average</th>\n",
       "      <th>vote_count</th>\n",
       "      <th>year</th>\n",
       "    </tr>\n",
       "  </thead>\n",
       "  <tbody>\n",
       "    <tr>\n",
       "      <th>0</th>\n",
       "      <td>Toy Story</td>\n",
       "      <td>['animation', 'comedy', 'family']</td>\n",
       "      <td>81.0</td>\n",
       "      <td>7.7</td>\n",
       "      <td>5415.0</td>\n",
       "      <td>1995</td>\n",
       "    </tr>\n",
       "    <tr>\n",
       "      <th>1</th>\n",
       "      <td>Jumanji</td>\n",
       "      <td>['adventure', 'fantasy', 'family']</td>\n",
       "      <td>104.0</td>\n",
       "      <td>6.9</td>\n",
       "      <td>2413.0</td>\n",
       "      <td>1995</td>\n",
       "    </tr>\n",
       "    <tr>\n",
       "      <th>2</th>\n",
       "      <td>Grumpier Old Men</td>\n",
       "      <td>['romance', 'comedy']</td>\n",
       "      <td>101.0</td>\n",
       "      <td>6.5</td>\n",
       "      <td>92.0</td>\n",
       "      <td>1995</td>\n",
       "    </tr>\n",
       "    <tr>\n",
       "      <th>3</th>\n",
       "      <td>Waiting to Exhale</td>\n",
       "      <td>['comedy', 'drama', 'romance']</td>\n",
       "      <td>127.0</td>\n",
       "      <td>6.1</td>\n",
       "      <td>34.0</td>\n",
       "      <td>1995</td>\n",
       "    </tr>\n",
       "    <tr>\n",
       "      <th>4</th>\n",
       "      <td>Father of the Bride Part II</td>\n",
       "      <td>['comedy']</td>\n",
       "      <td>106.0</td>\n",
       "      <td>5.7</td>\n",
       "      <td>173.0</td>\n",
       "      <td>1995</td>\n",
       "    </tr>\n",
       "  </tbody>\n",
       "</table>\n",
       "</div>"
      ],
      "text/plain": [
       "                         title                              genres  runtime  \\\n",
       "0                    Toy Story   ['animation', 'comedy', 'family']     81.0   \n",
       "1                      Jumanji  ['adventure', 'fantasy', 'family']    104.0   \n",
       "2             Grumpier Old Men               ['romance', 'comedy']    101.0   \n",
       "3            Waiting to Exhale      ['comedy', 'drama', 'romance']    127.0   \n",
       "4  Father of the Bride Part II                          ['comedy']    106.0   \n",
       "\n",
       "   vote_average  vote_count  year  \n",
       "0           7.7      5415.0  1995  \n",
       "1           6.9      2413.0  1995  \n",
       "2           6.5        92.0  1995  \n",
       "3           6.1        34.0  1995  \n",
       "4           5.7       173.0  1995  "
      ]
     },
     "execution_count": 2,
     "metadata": {},
     "output_type": "execute_result"
    }
   ],
   "source": [
    "# Read data\n",
    "file = 'data/metadata_clean.csv'\n",
    "\n",
    "df = pd.read_csv(file, low_memory=False)\n",
    "\n",
    "df.head()"
   ]
  },
  {
   "cell_type": "code",
   "execution_count": 3,
   "id": "f354457f-04a8-4a84-8777-1fdefb859de4",
   "metadata": {},
   "outputs": [
    {
     "data": {
      "text/html": [
       "<div>\n",
       "<style scoped>\n",
       "    .dataframe tbody tr th:only-of-type {\n",
       "        vertical-align: middle;\n",
       "    }\n",
       "\n",
       "    .dataframe tbody tr th {\n",
       "        vertical-align: top;\n",
       "    }\n",
       "\n",
       "    .dataframe thead th {\n",
       "        text-align: right;\n",
       "    }\n",
       "</style>\n",
       "<table border=\"1\" class=\"dataframe\">\n",
       "  <thead>\n",
       "    <tr style=\"text-align: right;\">\n",
       "      <th></th>\n",
       "      <th>title</th>\n",
       "      <th>genres</th>\n",
       "      <th>runtime</th>\n",
       "      <th>vote_average</th>\n",
       "      <th>vote_count</th>\n",
       "      <th>year</th>\n",
       "      <th>overview</th>\n",
       "      <th>id</th>\n",
       "    </tr>\n",
       "  </thead>\n",
       "  <tbody>\n",
       "    <tr>\n",
       "      <th>0</th>\n",
       "      <td>Toy Story</td>\n",
       "      <td>['animation', 'comedy', 'family']</td>\n",
       "      <td>81.0</td>\n",
       "      <td>7.7</td>\n",
       "      <td>5415.0</td>\n",
       "      <td>1995</td>\n",
       "      <td>Led by Woody, Andy's toys live happily in his ...</td>\n",
       "      <td>862</td>\n",
       "    </tr>\n",
       "    <tr>\n",
       "      <th>1</th>\n",
       "      <td>Jumanji</td>\n",
       "      <td>['adventure', 'fantasy', 'family']</td>\n",
       "      <td>104.0</td>\n",
       "      <td>6.9</td>\n",
       "      <td>2413.0</td>\n",
       "      <td>1995</td>\n",
       "      <td>When siblings Judy and Peter discover an encha...</td>\n",
       "      <td>8844</td>\n",
       "    </tr>\n",
       "    <tr>\n",
       "      <th>2</th>\n",
       "      <td>Grumpier Old Men</td>\n",
       "      <td>['romance', 'comedy']</td>\n",
       "      <td>101.0</td>\n",
       "      <td>6.5</td>\n",
       "      <td>92.0</td>\n",
       "      <td>1995</td>\n",
       "      <td>A family wedding reignites the ancient feud be...</td>\n",
       "      <td>15602</td>\n",
       "    </tr>\n",
       "    <tr>\n",
       "      <th>3</th>\n",
       "      <td>Waiting to Exhale</td>\n",
       "      <td>['comedy', 'drama', 'romance']</td>\n",
       "      <td>127.0</td>\n",
       "      <td>6.1</td>\n",
       "      <td>34.0</td>\n",
       "      <td>1995</td>\n",
       "      <td>Cheated on, mistreated and stepped on, the wom...</td>\n",
       "      <td>31357</td>\n",
       "    </tr>\n",
       "    <tr>\n",
       "      <th>4</th>\n",
       "      <td>Father of the Bride Part II</td>\n",
       "      <td>['comedy']</td>\n",
       "      <td>106.0</td>\n",
       "      <td>5.7</td>\n",
       "      <td>173.0</td>\n",
       "      <td>1995</td>\n",
       "      <td>Just when George Banks has recovered from his ...</td>\n",
       "      <td>11862</td>\n",
       "    </tr>\n",
       "  </tbody>\n",
       "</table>\n",
       "</div>"
      ],
      "text/plain": [
       "                         title                              genres  runtime  \\\n",
       "0                    Toy Story   ['animation', 'comedy', 'family']     81.0   \n",
       "1                      Jumanji  ['adventure', 'fantasy', 'family']    104.0   \n",
       "2             Grumpier Old Men               ['romance', 'comedy']    101.0   \n",
       "3            Waiting to Exhale      ['comedy', 'drama', 'romance']    127.0   \n",
       "4  Father of the Bride Part II                          ['comedy']    106.0   \n",
       "\n",
       "   vote_average  vote_count  year  \\\n",
       "0           7.7      5415.0  1995   \n",
       "1           6.9      2413.0  1995   \n",
       "2           6.5        92.0  1995   \n",
       "3           6.1        34.0  1995   \n",
       "4           5.7       173.0  1995   \n",
       "\n",
       "                                            overview     id  \n",
       "0  Led by Woody, Andy's toys live happily in his ...    862  \n",
       "1  When siblings Judy and Peter discover an encha...   8844  \n",
       "2  A family wedding reignites the ancient feud be...  15602  \n",
       "3  Cheated on, mistreated and stepped on, the wom...  31357  \n",
       "4  Just when George Banks has recovered from his ...  11862  "
      ]
     },
     "execution_count": 3,
     "metadata": {},
     "output_type": "execute_result"
    }
   ],
   "source": [
    "#Import the original file\n",
    "orig_df = pd.read_csv('data/movies_metadata.csv', low_memory=False)\n",
    "\n",
    "#Add the useful features into the cleaned dataframe\n",
    "df['overview'], df['id'] = orig_df['overview'], orig_df['id']\n",
    "\n",
    "df.head()"
   ]
  },
  {
   "cell_type": "markdown",
   "id": "7811982f-353f-4119-a0c2-c9b639ddc464",
   "metadata": {},
   "source": [
    "### CountVectorizer\n",
    "\n",
    "CountVectorizer is the simplest type of vectorizer and is best explained with the help of an example. Imagine that we have three documents, A, B, and C,\n",
    "which are as follows:\n",
    "\n",
    "    A: The sun is a star.\n",
    "    B: My love is like a red, red rose\n",
    "    C: Mary had a little lamb\n",
    "\n",
    "We now have to convert these documents into their vector forms using CountVectorizer. The first step is to compute the size of the vocabulary. The\n",
    "vocabulary is the number of unique words present across all documents. Therefore, the vocabulary for this set of three documents is as follows: the,\n",
    "sun, is, a, star, my, love, like, red, rose, mary, had, little, lamb. Consequently, the size of the vocabulary is 14.\n",
    "\n",
    "It is common practice to not include extremely common words such as a, the, is, had, my, and so on (also known as stop words) in the vocabulary.\n",
    "Therefore, eliminating the stop words, our vocabulary, V, is as follows:\n",
    "\n",
    "V: like, little, lamb, love, mary, red, rose, sun, star\n",
    "\n",
    "The size of our vocabulary is now nine. Therefore, our documents will be represented as nine-dimensional vectors, and each dimension here will\n",
    "represent the number of times a particular word occurs in a document. In other words, the first dimension will represent the number of times like occurs, the second will represent the number of times little occurs, and so on. Therefore, using the CountVectorizer approach, A, B, and C will now be\n",
    "represented as follows:\n",
    "\n",
    "    A: (0, 0, 0, 0, 0, 0, 0, 1, 1)\n",
    "    B: (1, 0, 0, 1, 0, 2, 1, 0, 0)\n",
    "    C: (0, 1, 1, 0, 1, 0, 0, 0, 0)"
   ]
  },
  {
   "cell_type": "markdown",
   "id": "7fd856b3-f44e-4c16-96de-56d77a9a49f1",
   "metadata": {},
   "source": [
    "<div style=\"text-align:center;\">\n",
    "    <img src='images/tfidf.jpg'>\n",
    "</div>"
   ]
  },
  {
   "cell_type": "markdown",
   "id": "c5a54c08-8c67-4277-b59b-998d846cce37",
   "metadata": {},
   "source": [
    "The weight $w_{i,j}$ takes values between 0 and 1."
   ]
  },
  {
   "cell_type": "code",
   "execution_count": 4,
   "id": "9bb16a64-8de6-49eb-9299-0e6c125a2668",
   "metadata": {},
   "outputs": [
    {
     "data": {
      "text/plain": [
       "(45032, 75357)"
      ]
     },
     "execution_count": 4,
     "metadata": {},
     "output_type": "execute_result"
    }
   ],
   "source": [
    "#Import TfIdfVectorizer from the scikit-learn library\n",
    "from sklearn.feature_extraction.text import TfidfVectorizer\n",
    "\n",
    "#Define a TF-IDF Vectorizer Object. Remove all english stopwords\n",
    "tfidf = TfidfVectorizer(stop_words='english')\n",
    "\n",
    "#Replace NaN with an empty string\n",
    "df['overview'] = df['overview'].fillna('')\n",
    "\n",
    "#Construct the required TF-IDF matrix by applying the fit_transform method on the overview feature\n",
    "tfidf_matrix = tfidf.fit_transform(df['overview'])\n",
    "\n",
    "#Output the shape of tfidf_matrix\n",
    "tfidf_matrix.shape"
   ]
  },
  {
   "cell_type": "markdown",
   "id": "cf6f0859-b1c7-48a4-87aa-1d650e3491c0",
   "metadata": {},
   "source": [
    "<div style=\"text-align:center;\">\n",
    "    <img src='images/css.jpg' width='600'>\n",
    "</div>"
   ]
  },
  {
   "cell_type": "code",
   "execution_count": 5,
   "id": "cb69a570-74a1-4deb-ae64-d8b0e25ca544",
   "metadata": {},
   "outputs": [],
   "source": [
    "# Import linear_kernel to compute the dot product\n",
    "from sklearn.metrics.pairwise import linear_kernel\n",
    "\n",
    "# Compute the cosine similarity matrix\n",
    "cosine_sim = linear_kernel(tfidf_matrix, tfidf_matrix)"
   ]
  },
  {
   "cell_type": "code",
   "execution_count": 6,
   "id": "81f932c7-e98d-43be-b52e-cfd37e1f13c2",
   "metadata": {},
   "outputs": [
    {
     "data": {
      "text/plain": [
       "title\n",
       "Toy Story                          0\n",
       "Jumanji                            1\n",
       "Grumpier Old Men                   2\n",
       "Waiting to Exhale                  3\n",
       "Father of the Bride Part II        4\n",
       "                               ...  \n",
       "Caged Heat 3000                45027\n",
       "Robin Hood                     45028\n",
       "Century of Birthing            45029\n",
       "Betrayal                       45030\n",
       "Queerama                       45031\n",
       "Length: 45032, dtype: int64"
      ]
     },
     "execution_count": 6,
     "metadata": {},
     "output_type": "execute_result"
    }
   ],
   "source": [
    "#Construct a reverse mapping of indices and movie titles, and drop duplicate titles, if any\n",
    "indices = pd.Series(df.index, index=df['title']).drop_duplicates()\n",
    "\n",
    "indices"
   ]
  },
  {
   "cell_type": "markdown",
   "id": "7178c8d1-2699-4de8-be05-401de0d5e52e",
   "metadata": {},
   "source": [
    "### Plot description based recommender\n",
    "\n",
    "Our plot description-based recommender will take in a movie title as an argument and output a list of movies that are most similar based on their\n",
    "plots. These are the steps we are going to perform in building this model:\n",
    "\n",
    "1. Obtain the data required to build the model\n",
    "2. Create TF-IDF vectors for the plot description (or overview) of every movie\n",
    "3. Compute the pairwise cosine similarity score of every movie\n",
    "4. Write the recommender function that takes in a movie title as an argument and outputs movies most similar to it based on the plot"
   ]
  },
  {
   "cell_type": "markdown",
   "id": "c5c8308a-8e23-41c7-be1c-ddec1b2f60e4",
   "metadata": {},
   "source": [
    "### Recommender Function"
   ]
  },
  {
   "cell_type": "markdown",
   "id": "9759e9c3-3591-4ebf-b739-bcae0fa9d82b",
   "metadata": {},
   "source": [
    "We will perform the following steps in building the recommender function:\n",
    "\n",
    "1. Declare the title of the movie as an argument.\n",
    "2. Obtain the index of the movie from the indices reverse mapping.\n",
    "3. Get the list of cosine similarity scores for that particular movie with all movies using cosine_sim. Convert this into a list of tuples where the first element is the position and the second is the similarity score.\n",
    "4. Sort this list of tuples on the basis of the cosine similarity scores.\n",
    "5. Get the top 10 elements of this list. Ignore the first element as it refers to the similarity score with itself (the movie most similar to a particular movie is obviously the movie itself).\n",
    "6. Return the titles corresponding to the indices of the top 10 elements, excluding the first:"
   ]
  },
  {
   "cell_type": "code",
   "execution_count": 7,
   "id": "62568a4f-d005-4d0d-ba0f-8df22ac1c35f",
   "metadata": {},
   "outputs": [],
   "source": [
    "# Function that takes in movie title as input and gives recommendations \n",
    "\n",
    "def content_recommender(title, cosine_sim=cosine_sim, df=df, indices=indices):\n",
    "    # Obtain the index of the movie that matches the title\n",
    "    idx = indices[title]\n",
    "\n",
    "    # Get the pairwsie similarity scores of all movies with that movie\n",
    "    # And convert it into a list of tuples as described above\n",
    "    sim_scores = list(enumerate(cosine_sim[idx]))\n",
    "\n",
    "    # Sort the movies based on the cosine similarity scores\n",
    "    sim_scores = sorted(sim_scores, key=lambda x: x[1], reverse=True)\n",
    "\n",
    "    # Get the scores of the 10 most similar movies. Ignore the first movie.\n",
    "    sim_scores = sim_scores[1:11]\n",
    "\n",
    "    # Get the movie indices\n",
    "    movie_indices = [i[0] for i in sim_scores]\n",
    "\n",
    "    # Return the top 10 most similar movies\n",
    "    return df['title'].iloc[movie_indices]"
   ]
  },
  {
   "cell_type": "code",
   "execution_count": 8,
   "id": "89dc5be4-781f-4efb-b10b-3a582adf0813",
   "metadata": {},
   "outputs": [
    {
     "data": {
      "text/plain": [
       "34682               Manson Family Vacation\n",
       "9353                    Tipping the Velvet\n",
       "9115                              Thursday\n",
       "42829                              Big Jet\n",
       "25654    Cheech & Chong Get Out of My Room\n",
       "17041                     Bird of Paradise\n",
       "27933                      Little Monsters\n",
       "6094                  Pauline at the Beach\n",
       "37409                   The Driftless Area\n",
       "3203                        Beyond the Mat\n",
       "Name: title, dtype: object"
      ]
     },
     "execution_count": 8,
     "metadata": {},
     "output_type": "execute_result"
    }
   ],
   "source": [
    "#Get recommendations for The Lion King\n",
    "content_recommender('The Lion King')"
   ]
  },
  {
   "cell_type": "markdown",
   "id": "646255ae-0fd5-4fa8-b15e-2f7256132c17",
   "metadata": {},
   "source": [
    "# Metadata Based Recommender"
   ]
  },
  {
   "cell_type": "markdown",
   "id": "c6148a7b-6151-4964-a347-b272b0188230",
   "metadata": {},
   "source": [
    "To build this model, we will be using the following metdata:\n",
    "* The genre of the movie.\n",
    "* The director of the movie. This person is part of the crew.\n",
    "* The movie's three major stars. They are part of the cast.\n",
    "* Sub-genres or keywords."
   ]
  },
  {
   "cell_type": "code",
   "execution_count": null,
   "id": "6b126fb8-875f-421f-9e89-ccae7c716b19",
   "metadata": {},
   "outputs": [],
   "source": [
    "# Load the keywords and credits files\n",
    "cred_df = pd.read_csv('../data/credits.csv')\n",
    "key_df = pd.read_csv('../data/keywords.csv')"
   ]
  },
  {
   "cell_type": "code",
   "execution_count": null,
   "id": "012d419f-032f-499a-aa9f-09287301804c",
   "metadata": {},
   "outputs": [],
   "source": []
  },
  {
   "cell_type": "code",
   "execution_count": null,
   "id": "39fe4900-9ce1-40b8-b0af-0bf8bd747b0d",
   "metadata": {},
   "outputs": [],
   "source": []
  },
  {
   "cell_type": "code",
   "execution_count": null,
   "id": "4a6af0b4-5a28-43cb-875b-de0ce619e5a6",
   "metadata": {},
   "outputs": [],
   "source": []
  },
  {
   "cell_type": "code",
   "execution_count": null,
   "id": "c9b68505-5b49-4842-81a8-d5dd7f9a394f",
   "metadata": {},
   "outputs": [],
   "source": []
  },
  {
   "cell_type": "code",
   "execution_count": null,
   "id": "d339ed24-c39a-41e0-b2e3-17dcdea149cb",
   "metadata": {},
   "outputs": [],
   "source": []
  },
  {
   "cell_type": "code",
   "execution_count": null,
   "id": "ac96be4f-b06c-4a3f-9461-1b812c911411",
   "metadata": {},
   "outputs": [],
   "source": []
  },
  {
   "cell_type": "code",
   "execution_count": null,
   "id": "5318e86b-0aae-4f26-a446-920049f7d7e6",
   "metadata": {},
   "outputs": [],
   "source": []
  },
  {
   "cell_type": "code",
   "execution_count": null,
   "id": "373f9fad-27cc-4a9b-b5e7-38b6cf7a494a",
   "metadata": {},
   "outputs": [],
   "source": []
  },
  {
   "cell_type": "code",
   "execution_count": null,
   "id": "f0c3cf31-0e1e-4a9f-9c93-0f351d4f2ca6",
   "metadata": {},
   "outputs": [],
   "source": []
  }
 ],
 "metadata": {
  "kernelspec": {
   "display_name": "Python 3 (ipykernel)",
   "language": "python",
   "name": "python3"
  },
  "language_info": {
   "codemirror_mode": {
    "name": "ipython",
    "version": 3
   },
   "file_extension": ".py",
   "mimetype": "text/x-python",
   "name": "python",
   "nbconvert_exporter": "python",
   "pygments_lexer": "ipython3",
   "version": "3.11.7"
  }
 },
 "nbformat": 4,
 "nbformat_minor": 5
}
